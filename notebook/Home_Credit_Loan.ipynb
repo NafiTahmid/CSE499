{
  "nbformat": 4,
  "nbformat_minor": 0,
  "metadata": {
    "kernelspec": {
      "language": "python",
      "display_name": "Python 3",
      "name": "python3"
    },
    "language_info": {
      "pygments_lexer": "ipython3",
      "nbconvert_exporter": "python",
      "version": "3.6.4",
      "file_extension": ".py",
      "codemirror_mode": {
        "name": "ipython",
        "version": 3
      },
      "name": "python",
      "mimetype": "text/x-python"
    },
    "colab": {
      "name": "Home Credit Loan",
      "provenance": [],
      "collapsed_sections": [],
      "include_colab_link": true
    }
  },
  "cells": [
    {
      "cell_type": "markdown",
      "metadata": {
        "id": "view-in-github",
        "colab_type": "text"
      },
      "source": [
        "<a href=\"https://colab.research.google.com/github/sakibsadmanshajib/CSE499/blob/main/notebook/Home_Credit_Loan.ipynb\" target=\"_parent\"><img src=\"https://colab.research.google.com/assets/colab-badge.svg\" alt=\"Open In Colab\"/></a>"
      ]
    },
    {
      "cell_type": "code",
      "metadata": {
        "colab": {
          "resources": {
            "http://localhost:8080/nbextensions/google.colab/files.js": {
              "data": "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",
              "ok": true,
              "headers": [
                [
                  "content-type",
                  "application/javascript"
                ]
              ],
              "status": 200,
              "status_text": ""
            }
          },
          "base_uri": "https://localhost:8080/",
          "height": 89
        },
        "id": "T8LOMj02f1oN",
        "outputId": "ddda4894-945a-4a1e-b93f-7a4815dd310d"
      },
      "source": [
        "from google.colab import files\n",
        "files.upload()"
      ],
      "execution_count": 1,
      "outputs": [
        {
          "output_type": "display_data",
          "data": {
            "text/html": [
              "\n",
              "     <input type=\"file\" id=\"files-6ca5878b-f8ba-4eb8-9020-dd8ed6e1584e\" name=\"files[]\" multiple disabled\n",
              "        style=\"border:none\" />\n",
              "     <output id=\"result-6ca5878b-f8ba-4eb8-9020-dd8ed6e1584e\">\n",
              "      Upload widget is only available when the cell has been executed in the\n",
              "      current browser session. Please rerun this cell to enable.\n",
              "      </output>\n",
              "      <script src=\"/nbextensions/google.colab/files.js\"></script> "
            ],
            "text/plain": [
              "<IPython.core.display.HTML object>"
            ]
          },
          "metadata": {
            "tags": []
          }
        },
        {
          "output_type": "stream",
          "text": [
            "Saving kaggle.json to kaggle.json\n"
          ],
          "name": "stdout"
        },
        {
          "output_type": "execute_result",
          "data": {
            "text/plain": [
              "{'kaggle.json': b'{\"username\":\"sakibsadmanshajib\",\"key\":\"7487d53c83398a07e6d51bc5830e7884\"}'}"
            ]
          },
          "metadata": {
            "tags": []
          },
          "execution_count": 1
        }
      ]
    },
    {
      "cell_type": "code",
      "metadata": {
        "id": "8WMvRGjnf5rr"
      },
      "source": [
        "!mkdir -p ~/.kaggle\n",
        "!cp kaggle.json ~/.kaggle/"
      ],
      "execution_count": 2,
      "outputs": []
    },
    {
      "cell_type": "code",
      "metadata": {
        "colab": {
          "base_uri": "https://localhost:8080/"
        },
        "id": "AvT3UpYtf7iL",
        "outputId": "7791bd55-39ac-48c7-97d5-6d2d86691c19"
      },
      "source": [
        "!pip install kaggle"
      ],
      "execution_count": 3,
      "outputs": [
        {
          "output_type": "stream",
          "text": [
            "Requirement already satisfied: kaggle in /usr/local/lib/python3.7/dist-packages (1.5.12)\n",
            "Requirement already satisfied: python-slugify in /usr/local/lib/python3.7/dist-packages (from kaggle) (5.0.2)\n",
            "Requirement already satisfied: python-dateutil in /usr/local/lib/python3.7/dist-packages (from kaggle) (2.8.1)\n",
            "Requirement already satisfied: requests in /usr/local/lib/python3.7/dist-packages (from kaggle) (2.23.0)\n",
            "Requirement already satisfied: six>=1.10 in /usr/local/lib/python3.7/dist-packages (from kaggle) (1.15.0)\n",
            "Requirement already satisfied: certifi in /usr/local/lib/python3.7/dist-packages (from kaggle) (2021.5.30)\n",
            "Requirement already satisfied: urllib3 in /usr/local/lib/python3.7/dist-packages (from kaggle) (1.24.3)\n",
            "Requirement already satisfied: tqdm in /usr/local/lib/python3.7/dist-packages (from kaggle) (4.41.1)\n",
            "Requirement already satisfied: text-unidecode>=1.3 in /usr/local/lib/python3.7/dist-packages (from python-slugify->kaggle) (1.3)\n",
            "Requirement already satisfied: idna<3,>=2.5 in /usr/local/lib/python3.7/dist-packages (from requests->kaggle) (2.10)\n",
            "Requirement already satisfied: chardet<4,>=3.0.2 in /usr/local/lib/python3.7/dist-packages (from requests->kaggle) (3.0.4)\n"
          ],
          "name": "stdout"
        }
      ]
    },
    {
      "cell_type": "code",
      "metadata": {
        "id": "MyGWXrUHf9DV"
      },
      "source": [
        "!chmod 600 /root/.kaggle/kaggle.json"
      ],
      "execution_count": 4,
      "outputs": []
    },
    {
      "cell_type": "code",
      "metadata": {
        "colab": {
          "base_uri": "https://localhost:8080/"
        },
        "id": "0x0p4J09f-Wt",
        "outputId": "7f4168f5-5871-4c99-b4b6-b77f3533c85a"
      },
      "source": [
        "!kaggle competitions download -c home-credit-default-risk"
      ],
      "execution_count": 5,
      "outputs": [
        {
          "output_type": "stream",
          "text": [
            "Warning: Looks like you're using an outdated API Version, please consider updating (server 1.5.12 / client 1.5.4)\n",
            "Downloading previous_application.csv.zip to /content\n",
            " 96% 73.0M/76.3M [00:00<00:00, 79.0MB/s]\n",
            "100% 76.3M/76.3M [00:00<00:00, 129MB/s] \n",
            "Downloading HomeCredit_columns_description.csv to /content\n",
            "  0% 0.00/36.5k [00:00<?, ?B/s]\n",
            "100% 36.5k/36.5k [00:00<00:00, 63.7MB/s]\n",
            "Downloading application_train.csv.zip to /content\n",
            " 69% 25.0M/36.1M [00:00<00:00, 98.5MB/s]\n",
            "100% 36.1M/36.1M [00:00<00:00, 143MB/s] \n",
            "Downloading POS_CASH_balance.csv.zip to /content\n",
            " 97% 105M/109M [00:00<00:00, 135MB/s] \n",
            "100% 109M/109M [00:00<00:00, 130MB/s]\n",
            "Downloading installments_payments.csv.zip to /content\n",
            " 99% 268M/271M [00:06<00:00, 29.8MB/s]\n",
            "100% 271M/271M [00:06<00:00, 42.8MB/s]\n",
            "Downloading application_test.csv.zip to /content\n",
            " 86% 5.00M/5.81M [00:00<00:00, 39.6MB/s]\n",
            "100% 5.81M/5.81M [00:00<00:00, 35.4MB/s]\n",
            "Downloading credit_card_balance.csv.zip to /content\n",
            " 84% 81.0M/96.7M [00:00<00:00, 117MB/s]\n",
            "100% 96.7M/96.7M [00:00<00:00, 130MB/s]\n",
            "Downloading bureau_balance.csv.zip to /content\n",
            " 74% 42.0M/56.8M [00:00<00:00, 103MB/s] \n",
            "100% 56.8M/56.8M [00:00<00:00, 128MB/s]\n",
            "Downloading bureau.csv.zip to /content\n",
            " 57% 21.0M/36.8M [00:00<00:00, 81.7MB/s]\n",
            "100% 36.8M/36.8M [00:00<00:00, 114MB/s] \n",
            "Downloading sample_submission.csv to /content\n",
            "  0% 0.00/524k [00:00<?, ?B/s]\n",
            "100% 524k/524k [00:00<00:00, 65.7MB/s]\n"
          ],
          "name": "stdout"
        }
      ]
    },
    {
      "cell_type": "code",
      "metadata": {
        "colab": {
          "base_uri": "https://localhost:8080/"
        },
        "id": "BY9VjC4xiDl6",
        "outputId": "2822f8e7-0a9e-466e-e8fc-62a02b2a5778"
      },
      "source": [
        "!unzip \\*.zip -d dataset"
      ],
      "execution_count": 6,
      "outputs": [
        {
          "output_type": "stream",
          "text": [
            "Archive:  previous_application.csv.zip\n",
            "  inflating: dataset/previous_application.csv  \n",
            "\n",
            "Archive:  application_test.csv.zip\n",
            "  inflating: dataset/application_test.csv  \n",
            "\n",
            "Archive:  bureau_balance.csv.zip\n",
            "  inflating: dataset/bureau_balance.csv  \n",
            "\n",
            "Archive:  credit_card_balance.csv.zip\n",
            "  inflating: dataset/credit_card_balance.csv  \n",
            "\n",
            "Archive:  installments_payments.csv.zip\n",
            "  inflating: dataset/installments_payments.csv  \n",
            "\n",
            "Archive:  POS_CASH_balance.csv.zip\n",
            "  inflating: dataset/POS_CASH_balance.csv  \n",
            "\n",
            "Archive:  bureau.csv.zip\n",
            "  inflating: dataset/bureau.csv      \n",
            "\n",
            "Archive:  application_train.csv.zip\n",
            "  inflating: dataset/application_train.csv  \n",
            "\n",
            "8 archives were successfully processed.\n"
          ],
          "name": "stdout"
        }
      ]
    },
    {
      "cell_type": "code",
      "metadata": {
        "id": "J7HyGg8wji7u"
      },
      "source": [
        "!rm -R sample_data"
      ],
      "execution_count": 7,
      "outputs": []
    },
    {
      "cell_type": "code",
      "metadata": {
        "id": "bY_gS3lSj18f"
      },
      "source": [
        "!rm *zip *csv"
      ],
      "execution_count": 8,
      "outputs": []
    },
    {
      "cell_type": "code",
      "metadata": {
        "execution": {
          "iopub.status.busy": "2021-05-23T04:55:27.853645Z",
          "iopub.execute_input": "2021-05-23T04:55:27.854329Z",
          "iopub.status.idle": "2021-05-23T04:55:30.511152Z",
          "shell.execute_reply.started": "2021-05-23T04:55:27.854235Z",
          "shell.execute_reply": "2021-05-23T04:55:30.509803Z"
        },
        "trusted": true,
        "id": "bbZooWebfvD3"
      },
      "source": [
        "import os\n",
        "import gc\n",
        "import numpy as np\n",
        "import pandas as pd\n",
        "import multiprocessing as mp\n",
        "from scipy.stats import kurtosis\n",
        "from sklearn.metrics import roc_auc_score\n",
        "from sklearn.preprocessing import MinMaxScaler\n",
        "from sklearn.impute import SimpleImputer\n",
        "from sklearn.linear_model import LogisticRegression\n",
        "import matplotlib.pyplot as plt\n",
        "import seaborn as sns\n",
        "import warnings\n",
        "from sklearn.model_selection import train_test_split, cross_val_score, StratifiedKFold, KFold\n",
        "import xgboost as xgb\n",
        "from xgboost import XGBClassifier\n",
        "from functools import partial\n",
        "from sklearn.ensemble import RandomForestClassifier\n",
        "import lightgbm as lgb\n",
        "warnings.simplefilter(action='ignore', category=FutureWarning)"
      ],
      "execution_count": 9,
      "outputs": []
    },
    {
      "cell_type": "code",
      "metadata": {
        "execution": {
          "iopub.status.busy": "2021-05-23T04:55:30.513101Z",
          "iopub.execute_input": "2021-05-23T04:55:30.513524Z",
          "iopub.status.idle": "2021-05-23T04:55:30.519884Z",
          "shell.execute_reply.started": "2021-05-23T04:55:30.513468Z",
          "shell.execute_reply": "2021-05-23T04:55:30.518421Z"
        },
        "trusted": true,
        "id": "1SNgv8eKfvD5"
      },
      "source": [
        "DATA_DIRECTORY = \"/content/dataset\""
      ],
      "execution_count": 10,
      "outputs": []
    },
    {
      "cell_type": "code",
      "metadata": {
        "execution": {
          "iopub.status.busy": "2021-05-23T04:55:30.523001Z",
          "iopub.execute_input": "2021-05-23T04:55:30.523574Z",
          "iopub.status.idle": "2021-05-23T04:55:38.301092Z",
          "shell.execute_reply.started": "2021-05-23T04:55:30.523503Z",
          "shell.execute_reply": "2021-05-23T04:55:38.299911Z"
        },
        "trusted": true,
        "colab": {
          "base_uri": "https://localhost:8080/"
        },
        "id": "0PHJ3WiVfvD7",
        "outputId": "39a1602e-53fd-4ffe-eed3-7399cc2ec5ad"
      },
      "source": [
        "df_train = pd.read_csv(os.path.join(DATA_DIRECTORY, 'application_train.csv'))\n",
        "df_test = pd.read_csv(os.path.join(DATA_DIRECTORY, 'application_test.csv'))\n",
        "df = df_train.append(df_test)\n",
        "del df_train, df_test; gc.collect()"
      ],
      "execution_count": 11,
      "outputs": [
        {
          "output_type": "execute_result",
          "data": {
            "text/plain": [
              "0"
            ]
          },
          "metadata": {
            "tags": []
          },
          "execution_count": 11
        }
      ]
    },
    {
      "cell_type": "code",
      "metadata": {
        "execution": {
          "iopub.status.busy": "2021-05-23T04:55:38.302808Z",
          "iopub.execute_input": "2021-05-23T04:55:38.303128Z",
          "iopub.status.idle": "2021-05-23T04:55:39.532949Z",
          "shell.execute_reply.started": "2021-05-23T04:55:38.303098Z",
          "shell.execute_reply": "2021-05-23T04:55:39.531716Z"
        },
        "trusted": true,
        "id": "lbsWdO_HfvD7"
      },
      "source": [
        "df = df[df['AMT_INCOME_TOTAL'] < 20000000]\n",
        "df = df[df['CODE_GENDER'] != 'XNA']\n",
        "df['DAYS_EMPLOYED'].replace(365243, np.nan, inplace=True)\n",
        "df['DAYS_LAST_PHONE_CHANGE'].replace(0, np.nan, inplace=True)"
      ],
      "execution_count": 12,
      "outputs": []
    },
    {
      "cell_type": "code",
      "metadata": {
        "execution": {
          "iopub.status.busy": "2021-05-23T04:55:39.534529Z",
          "iopub.execute_input": "2021-05-23T04:55:39.534973Z",
          "iopub.status.idle": "2021-05-23T04:55:39.541094Z",
          "shell.execute_reply.started": "2021-05-23T04:55:39.534934Z",
          "shell.execute_reply": "2021-05-23T04:55:39.539956Z"
        },
        "trusted": true,
        "id": "DRM56nqxfvD8"
      },
      "source": [
        "def get_age_group(days_birth):\n",
        "    age_years = -days_birth / 365\n",
        "    if age_years < 27: return 1\n",
        "    elif age_years < 40: return 2\n",
        "    elif age_years < 50: return 3\n",
        "    elif age_years < 65: return 4\n",
        "    elif age_years < 99: return 5\n",
        "    else: return 0"
      ],
      "execution_count": 13,
      "outputs": []
    },
    {
      "cell_type": "code",
      "metadata": {
        "execution": {
          "iopub.status.busy": "2021-05-23T04:55:39.542641Z",
          "iopub.execute_input": "2021-05-23T04:55:39.542945Z",
          "iopub.status.idle": "2021-05-23T04:55:40.335814Z",
          "shell.execute_reply.started": "2021-05-23T04:55:39.542912Z",
          "shell.execute_reply": "2021-05-23T04:55:40.334751Z"
        },
        "trusted": true,
        "id": "0Y9u5rCYfvD9"
      },
      "source": [
        "docs = [f for f in df.columns if 'FLAG_DOC' in f]\n",
        "df['DOCUMENT_COUNT'] = df[docs].sum(axis=1)\n",
        "df['NEW_DOC_KURT'] = df[docs].kurtosis(axis=1)\n",
        "df['AGE_RANGE'] = df['DAYS_BIRTH'].apply(lambda x: get_age_group(x))"
      ],
      "execution_count": 14,
      "outputs": []
    },
    {
      "cell_type": "code",
      "metadata": {
        "execution": {
          "iopub.status.busy": "2021-05-23T04:55:40.337188Z",
          "iopub.execute_input": "2021-05-23T04:55:40.337493Z",
          "iopub.status.idle": "2021-05-23T04:55:41.557214Z",
          "shell.execute_reply.started": "2021-05-23T04:55:40.337461Z",
          "shell.execute_reply": "2021-05-23T04:55:41.555855Z"
        },
        "trusted": true,
        "id": "7tGXFHxRfvD9"
      },
      "source": [
        "df['EXT_SOURCES_PROD'] = df['EXT_SOURCE_1'] * df['EXT_SOURCE_2'] * df['EXT_SOURCE_3']\n",
        "df['EXT_SOURCES_WEIGHTED'] = df.EXT_SOURCE_1 * 2 + df.EXT_SOURCE_2 * 1 + df.EXT_SOURCE_3 * 3\n",
        "np.warnings.filterwarnings('ignore', r'All-NaN (slice|axis) encountered')\n",
        "for function_name in ['min', 'max', 'mean', 'nanmedian', 'var']:\n",
        "    feature_name = 'EXT_SOURCES_{}'.format(function_name.upper())\n",
        "    df[feature_name] = eval('np.{}'.format(function_name))(\n",
        "        df[['EXT_SOURCE_1', 'EXT_SOURCE_2', 'EXT_SOURCE_3']], axis=1)"
      ],
      "execution_count": 15,
      "outputs": []
    },
    {
      "cell_type": "code",
      "metadata": {
        "execution": {
          "iopub.status.busy": "2021-05-23T04:55:41.560036Z",
          "iopub.execute_input": "2021-05-23T04:55:41.560335Z",
          "iopub.status.idle": "2021-05-23T04:55:41.591515Z",
          "shell.execute_reply.started": "2021-05-23T04:55:41.560307Z",
          "shell.execute_reply": "2021-05-23T04:55:41.59041Z"
        },
        "trusted": true,
        "id": "l88M7zcefvD-"
      },
      "source": [
        "df['CREDIT_TO_ANNUITY_RATIO'] = df['AMT_CREDIT'] / df['AMT_ANNUITY']\n",
        "df['CREDIT_TO_GOODS_RATIO'] = df['AMT_CREDIT'] / df['AMT_GOODS_PRICE']\n",
        "df['ANNUITY_TO_INCOME_RATIO'] = df['AMT_ANNUITY'] / df['AMT_INCOME_TOTAL']\n",
        "df['CREDIT_TO_INCOME_RATIO'] = df['AMT_CREDIT'] / df['AMT_INCOME_TOTAL']\n",
        "df['INCOME_TO_EMPLOYED_RATIO'] = df['AMT_INCOME_TOTAL'] / df['DAYS_EMPLOYED']\n",
        "df['INCOME_TO_BIRTH_RATIO'] = df['AMT_INCOME_TOTAL'] / df['DAYS_BIRTH']    \n",
        "df['EMPLOYED_TO_BIRTH_RATIO'] = df['DAYS_EMPLOYED'] / df['DAYS_BIRTH']\n",
        "df['ID_TO_BIRTH_RATIO'] = df['DAYS_ID_PUBLISH'] / df['DAYS_BIRTH']\n",
        "df['CAR_TO_BIRTH_RATIO'] = df['OWN_CAR_AGE'] / df['DAYS_BIRTH']\n",
        "df['CAR_TO_EMPLOYED_RATIO'] = df['OWN_CAR_AGE'] / df['DAYS_EMPLOYED']\n",
        "df['PHONE_TO_BIRTH_RATIO'] = df['DAYS_LAST_PHONE_CHANGE'] / df['DAYS_BIRTH']"
      ],
      "execution_count": 16,
      "outputs": []
    },
    {
      "cell_type": "code",
      "metadata": {
        "execution": {
          "iopub.status.busy": "2021-05-23T04:55:41.593482Z",
          "iopub.execute_input": "2021-05-23T04:55:41.593869Z",
          "iopub.status.idle": "2021-05-23T04:55:41.600173Z",
          "shell.execute_reply.started": "2021-05-23T04:55:41.593837Z",
          "shell.execute_reply": "2021-05-23T04:55:41.599129Z"
        },
        "trusted": true,
        "id": "--oHB5mIfvD-"
      },
      "source": [
        "def do_mean(df, group_cols, counted, agg_name):\n",
        "    gp = df[group_cols + [counted]].groupby(group_cols)[counted].mean().reset_index().rename(\n",
        "        columns={counted: agg_name})\n",
        "    df = df.merge(gp, on=group_cols, how='left')\n",
        "    del gp\n",
        "    gc.collect()\n",
        "    return df"
      ],
      "execution_count": 17,
      "outputs": []
    },
    {
      "cell_type": "code",
      "metadata": {
        "execution": {
          "iopub.status.busy": "2021-05-23T04:55:41.601807Z",
          "iopub.execute_input": "2021-05-23T04:55:41.602132Z",
          "iopub.status.idle": "2021-05-23T04:55:41.613398Z",
          "shell.execute_reply.started": "2021-05-23T04:55:41.602099Z",
          "shell.execute_reply": "2021-05-23T04:55:41.612056Z"
        },
        "trusted": true,
        "id": "-AjK9cklfvD_"
      },
      "source": [
        "def do_median(df, group_cols, counted, agg_name):\n",
        "    gp = df[group_cols + [counted]].groupby(group_cols)[counted].median().reset_index().rename(\n",
        "        columns={counted: agg_name})\n",
        "    df = df.merge(gp, on=group_cols, how='left')\n",
        "    del gp\n",
        "    gc.collect()\n",
        "    return df"
      ],
      "execution_count": 18,
      "outputs": []
    },
    {
      "cell_type": "code",
      "metadata": {
        "execution": {
          "iopub.status.busy": "2021-05-23T04:55:41.61479Z",
          "iopub.execute_input": "2021-05-23T04:55:41.615068Z",
          "iopub.status.idle": "2021-05-23T04:55:41.625948Z",
          "shell.execute_reply.started": "2021-05-23T04:55:41.615041Z",
          "shell.execute_reply": "2021-05-23T04:55:41.624907Z"
        },
        "trusted": true,
        "id": "vRkrot_8fvD_"
      },
      "source": [
        "def do_std(df, group_cols, counted, agg_name):\n",
        "    gp = df[group_cols + [counted]].groupby(group_cols)[counted].std().reset_index().rename(\n",
        "        columns={counted: agg_name})\n",
        "    df = df.merge(gp, on=group_cols, how='left')\n",
        "    del gp\n",
        "    gc.collect()\n",
        "    return df"
      ],
      "execution_count": 19,
      "outputs": []
    },
    {
      "cell_type": "code",
      "metadata": {
        "execution": {
          "iopub.status.busy": "2021-05-23T04:55:41.627189Z",
          "iopub.execute_input": "2021-05-23T04:55:41.627465Z",
          "iopub.status.idle": "2021-05-23T04:55:41.643876Z",
          "shell.execute_reply.started": "2021-05-23T04:55:41.627438Z",
          "shell.execute_reply": "2021-05-23T04:55:41.642798Z"
        },
        "trusted": true,
        "id": "URTqRsY6fvEA"
      },
      "source": [
        "def do_sum(df, group_cols, counted, agg_name):\n",
        "    gp = df[group_cols + [counted]].groupby(group_cols)[counted].sum().reset_index().rename(\n",
        "        columns={counted: agg_name})\n",
        "    df = df.merge(gp, on=group_cols, how='left')\n",
        "    del gp\n",
        "    gc.collect()\n",
        "    return df"
      ],
      "execution_count": 20,
      "outputs": []
    },
    {
      "cell_type": "code",
      "metadata": {
        "execution": {
          "iopub.status.busy": "2021-05-23T04:55:41.645112Z",
          "iopub.execute_input": "2021-05-23T04:55:41.645391Z",
          "iopub.status.idle": "2021-05-23T04:56:18.917517Z",
          "shell.execute_reply.started": "2021-05-23T04:55:41.645364Z",
          "shell.execute_reply": "2021-05-23T04:56:18.916647Z"
        },
        "trusted": true,
        "id": "uH-QMvWOfvEA"
      },
      "source": [
        "group = ['ORGANIZATION_TYPE', 'NAME_EDUCATION_TYPE', 'OCCUPATION_TYPE', 'AGE_RANGE', 'CODE_GENDER']\n",
        "df = do_median(df, group, 'EXT_SOURCES_MEAN', 'GROUP_EXT_SOURCES_MEDIAN')\n",
        "df = do_std(df, group, 'EXT_SOURCES_MEAN', 'GROUP_EXT_SOURCES_STD')\n",
        "df = do_mean(df, group, 'AMT_INCOME_TOTAL', 'GROUP_INCOME_MEAN')\n",
        "df = do_std(df, group, 'AMT_INCOME_TOTAL', 'GROUP_INCOME_STD')\n",
        "df = do_mean(df, group, 'CREDIT_TO_ANNUITY_RATIO', 'GROUP_CREDIT_TO_ANNUITY_MEAN')\n",
        "df = do_std(df, group, 'CREDIT_TO_ANNUITY_RATIO', 'GROUP_CREDIT_TO_ANNUITY_STD')\n",
        "df = do_mean(df, group, 'AMT_CREDIT', 'GROUP_CREDIT_MEAN')\n",
        "df = do_mean(df, group, 'AMT_ANNUITY', 'GROUP_ANNUITY_MEAN')\n",
        "df = do_std(df, group, 'AMT_ANNUITY', 'GROUP_ANNUITY_STD')"
      ],
      "execution_count": 21,
      "outputs": []
    },
    {
      "cell_type": "code",
      "metadata": {
        "execution": {
          "iopub.status.busy": "2021-05-23T04:56:18.91906Z",
          "iopub.execute_input": "2021-05-23T04:56:18.919738Z",
          "iopub.status.idle": "2021-05-23T04:56:18.926332Z",
          "shell.execute_reply.started": "2021-05-23T04:56:18.919685Z",
          "shell.execute_reply": "2021-05-23T04:56:18.925536Z"
        },
        "trusted": true,
        "id": "pgJRRETefvEB"
      },
      "source": [
        "def label_encoder(df, categorical_columns=None):\n",
        "    if not categorical_columns:\n",
        "        categorical_columns = [col for col in df.columns if df[col].dtype == 'object']\n",
        "    for col in categorical_columns:\n",
        "        df[col], uniques = pd.factorize(df[col])\n",
        "    return df, categorical_columns"
      ],
      "execution_count": 22,
      "outputs": []
    },
    {
      "cell_type": "code",
      "metadata": {
        "execution": {
          "iopub.status.busy": "2021-05-23T04:56:18.927696Z",
          "iopub.execute_input": "2021-05-23T04:56:18.92801Z",
          "iopub.status.idle": "2021-05-23T04:56:18.94141Z",
          "shell.execute_reply.started": "2021-05-23T04:56:18.927979Z",
          "shell.execute_reply": "2021-05-23T04:56:18.940132Z"
        },
        "trusted": true,
        "id": "fvOARQAgfvEB"
      },
      "source": [
        "def drop_application_columns(df):\n",
        "    drop_list = [\n",
        "        'CNT_CHILDREN', 'CNT_FAM_MEMBERS', 'HOUR_APPR_PROCESS_START',\n",
        "        'FLAG_EMP_PHONE', 'FLAG_MOBIL', 'FLAG_CONT_MOBILE', 'FLAG_EMAIL', 'FLAG_PHONE',\n",
        "        'FLAG_OWN_REALTY', 'REG_REGION_NOT_LIVE_REGION', 'REG_REGION_NOT_WORK_REGION',\n",
        "        'REG_CITY_NOT_WORK_CITY', 'OBS_30_CNT_SOCIAL_CIRCLE', 'OBS_60_CNT_SOCIAL_CIRCLE',\n",
        "        'AMT_REQ_CREDIT_BUREAU_DAY', 'AMT_REQ_CREDIT_BUREAU_MON', 'AMT_REQ_CREDIT_BUREAU_YEAR', \n",
        "        'COMMONAREA_MODE', 'NONLIVINGAREA_MODE', 'ELEVATORS_MODE', 'NONLIVINGAREA_AVG',\n",
        "        'FLOORSMIN_MEDI', 'LANDAREA_MODE', 'NONLIVINGAREA_MEDI', 'LIVINGAPARTMENTS_MODE',\n",
        "        'FLOORSMIN_AVG', 'LANDAREA_AVG', 'FLOORSMIN_MODE', 'LANDAREA_MEDI',\n",
        "        'COMMONAREA_MEDI', 'YEARS_BUILD_AVG', 'COMMONAREA_AVG', 'BASEMENTAREA_AVG',\n",
        "        'BASEMENTAREA_MODE', 'NONLIVINGAPARTMENTS_MEDI', 'BASEMENTAREA_MEDI', \n",
        "        'LIVINGAPARTMENTS_AVG', 'ELEVATORS_AVG', 'YEARS_BUILD_MEDI', 'ENTRANCES_MODE',\n",
        "        'NONLIVINGAPARTMENTS_MODE', 'LIVINGAREA_MODE', 'LIVINGAPARTMENTS_MEDI',\n",
        "        'YEARS_BUILD_MODE', 'YEARS_BEGINEXPLUATATION_AVG', 'ELEVATORS_MEDI', 'LIVINGAREA_MEDI',\n",
        "        'YEARS_BEGINEXPLUATATION_MODE', 'NONLIVINGAPARTMENTS_AVG', 'HOUSETYPE_MODE',\n",
        "        'FONDKAPREMONT_MODE', 'EMERGENCYSTATE_MODE'\n",
        "    ]\n",
        "    for doc_num in [2,4,5,6,7,9,10,11,12,13,14,15,16,17,19,20,21]:\n",
        "        drop_list.append('FLAG_DOCUMENT_{}'.format(doc_num))\n",
        "    df.drop(drop_list, axis=1, inplace=True)\n",
        "    return df"
      ],
      "execution_count": 23,
      "outputs": []
    },
    {
      "cell_type": "code",
      "metadata": {
        "execution": {
          "iopub.status.busy": "2021-05-23T04:56:18.943137Z",
          "iopub.execute_input": "2021-05-23T04:56:18.943504Z",
          "iopub.status.idle": "2021-05-23T04:56:20.131135Z",
          "shell.execute_reply.started": "2021-05-23T04:56:18.943472Z",
          "shell.execute_reply": "2021-05-23T04:56:20.129872Z"
        },
        "trusted": true,
        "id": "SYuEW0klfvEC"
      },
      "source": [
        "df, le_encoded_cols = label_encoder(df, None)\n",
        "df = drop_application_columns(df)"
      ],
      "execution_count": 24,
      "outputs": []
    },
    {
      "cell_type": "code",
      "metadata": {
        "execution": {
          "iopub.status.busy": "2021-05-23T04:56:20.132744Z",
          "iopub.execute_input": "2021-05-23T04:56:20.133047Z",
          "iopub.status.idle": "2021-05-23T04:56:20.290194Z",
          "shell.execute_reply.started": "2021-05-23T04:56:20.133018Z",
          "shell.execute_reply": "2021-05-23T04:56:20.289243Z"
        },
        "trusted": true,
        "id": "KCnOZUiKfvEC"
      },
      "source": [
        "df = pd.get_dummies(df)"
      ],
      "execution_count": 25,
      "outputs": []
    },
    {
      "cell_type": "code",
      "metadata": {
        "execution": {
          "iopub.status.busy": "2021-05-23T04:56:20.291373Z",
          "iopub.execute_input": "2021-05-23T04:56:20.291709Z",
          "iopub.status.idle": "2021-05-23T04:56:25.133576Z",
          "shell.execute_reply.started": "2021-05-23T04:56:20.291676Z",
          "shell.execute_reply": "2021-05-23T04:56:25.132268Z"
        },
        "trusted": true,
        "id": "oKDRi8ssfvEC"
      },
      "source": [
        "bureau = pd.read_csv(os.path.join(DATA_DIRECTORY, 'bureau.csv'))"
      ],
      "execution_count": 26,
      "outputs": []
    },
    {
      "cell_type": "code",
      "metadata": {
        "execution": {
          "iopub.status.busy": "2021-05-23T04:56:25.135115Z",
          "iopub.execute_input": "2021-05-23T04:56:25.135411Z",
          "iopub.status.idle": "2021-05-23T04:56:25.212986Z",
          "shell.execute_reply.started": "2021-05-23T04:56:25.135381Z",
          "shell.execute_reply": "2021-05-23T04:56:25.211814Z"
        },
        "trusted": true,
        "id": "an0Q-OdSfvEC"
      },
      "source": [
        "bureau['CREDIT_DURATION'] = -bureau['DAYS_CREDIT'] + bureau['DAYS_CREDIT_ENDDATE']\n",
        "bureau['ENDDATE_DIF'] = bureau['DAYS_CREDIT_ENDDATE'] - bureau['DAYS_ENDDATE_FACT']\n",
        "bureau['DEBT_PERCENTAGE'] = bureau['AMT_CREDIT_SUM'] / bureau['AMT_CREDIT_SUM_DEBT']\n",
        "bureau['DEBT_CREDIT_DIFF'] = bureau['AMT_CREDIT_SUM'] - bureau['AMT_CREDIT_SUM_DEBT']\n",
        "bureau['CREDIT_TO_ANNUITY_RATIO'] = bureau['AMT_CREDIT_SUM'] / bureau['AMT_ANNUITY']"
      ],
      "execution_count": 27,
      "outputs": []
    },
    {
      "cell_type": "code",
      "metadata": {
        "execution": {
          "iopub.status.busy": "2021-05-23T04:56:25.216977Z",
          "iopub.execute_input": "2021-05-23T04:56:25.217287Z",
          "iopub.status.idle": "2021-05-23T04:56:25.224273Z",
          "shell.execute_reply.started": "2021-05-23T04:56:25.217257Z",
          "shell.execute_reply": "2021-05-23T04:56:25.222681Z"
        },
        "trusted": true,
        "id": "a-6yU6iUfvED"
      },
      "source": [
        "def one_hot_encoder(df, categorical_columns=None, nan_as_category=True):\n",
        "    original_columns = list(df.columns)\n",
        "    if not categorical_columns:\n",
        "        categorical_columns = [col for col in df.columns if df[col].dtype == 'object']\n",
        "    df = pd.get_dummies(df, columns=categorical_columns, dummy_na=nan_as_category)\n",
        "    categorical_columns = [c for c in df.columns if c not in original_columns]\n",
        "    return df, categorical_columns"
      ],
      "execution_count": 28,
      "outputs": []
    },
    {
      "cell_type": "code",
      "metadata": {
        "execution": {
          "iopub.status.busy": "2021-05-23T04:56:25.226346Z",
          "iopub.execute_input": "2021-05-23T04:56:25.226676Z",
          "iopub.status.idle": "2021-05-23T04:56:25.238188Z",
          "shell.execute_reply.started": "2021-05-23T04:56:25.226643Z",
          "shell.execute_reply": "2021-05-23T04:56:25.236869Z"
        },
        "trusted": true,
        "id": "MLZf1YK4fvED"
      },
      "source": [
        "def group(df_to_agg, prefix, aggregations, aggregate_by= 'SK_ID_CURR'):\n",
        "    agg_df = df_to_agg.groupby(aggregate_by).agg(aggregations)\n",
        "    agg_df.columns = pd.Index(['{}{}_{}'.format(prefix, e[0], e[1].upper())\n",
        "                               for e in agg_df.columns.tolist()])\n",
        "    return agg_df.reset_index()"
      ],
      "execution_count": 29,
      "outputs": []
    },
    {
      "cell_type": "code",
      "metadata": {
        "execution": {
          "iopub.status.busy": "2021-05-23T04:56:25.239626Z",
          "iopub.execute_input": "2021-05-23T04:56:25.240043Z",
          "iopub.status.idle": "2021-05-23T04:56:25.250693Z",
          "shell.execute_reply.started": "2021-05-23T04:56:25.239912Z",
          "shell.execute_reply": "2021-05-23T04:56:25.249703Z"
        },
        "trusted": true,
        "id": "ZjLTbd4tfvED"
      },
      "source": [
        "def group_and_merge(df_to_agg, df_to_merge, prefix, aggregations, aggregate_by= 'SK_ID_CURR'):\n",
        "    agg_df = group(df_to_agg, prefix, aggregations, aggregate_by= aggregate_by)\n",
        "    return df_to_merge.merge(agg_df, how='left', on= aggregate_by)"
      ],
      "execution_count": 30,
      "outputs": []
    },
    {
      "cell_type": "code",
      "metadata": {
        "execution": {
          "iopub.status.busy": "2021-05-23T04:56:25.25602Z",
          "iopub.execute_input": "2021-05-23T04:56:25.256381Z",
          "iopub.status.idle": "2021-05-23T04:56:25.265302Z",
          "shell.execute_reply.started": "2021-05-23T04:56:25.256348Z",
          "shell.execute_reply": "2021-05-23T04:56:25.264106Z"
        },
        "trusted": true,
        "id": "BkjdcDZPfvED"
      },
      "source": [
        "def get_bureau_balance(path, num_rows= None):\n",
        "    bb = pd.read_csv(os.path.join(path, 'bureau_balance.csv'))\n",
        "    bb, categorical_cols = one_hot_encoder(bb, nan_as_category= False)\n",
        "    bb_processed = bb.groupby('SK_ID_BUREAU')[categorical_cols].mean().reset_index()\n",
        "    agg = {'MONTHS_BALANCE': ['min', 'max', 'mean', 'size']}\n",
        "    bb_processed = group_and_merge(bb, bb_processed, '', agg, 'SK_ID_BUREAU')\n",
        "    del bb; gc.collect()\n",
        "    return bb_processed"
      ],
      "execution_count": 31,
      "outputs": []
    },
    {
      "cell_type": "code",
      "metadata": {
        "execution": {
          "iopub.status.busy": "2021-05-23T04:56:25.269326Z",
          "iopub.execute_input": "2021-05-23T04:56:25.269857Z",
          "iopub.status.idle": "2021-05-23T04:56:48.87663Z",
          "shell.execute_reply.started": "2021-05-23T04:56:25.269804Z",
          "shell.execute_reply": "2021-05-23T04:56:48.875332Z"
        },
        "trusted": true,
        "id": "NOaYMiuifvEE"
      },
      "source": [
        "bureau, categorical_cols = one_hot_encoder(bureau, nan_as_category= False)\n",
        "bureau = bureau.merge(get_bureau_balance(DATA_DIRECTORY), how='left', on='SK_ID_BUREAU')\n",
        "bureau['STATUS_12345'] = 0\n",
        "for i in range(1,6):\n",
        "    bureau['STATUS_12345'] += bureau['STATUS_{}'.format(i)]"
      ],
      "execution_count": 32,
      "outputs": []
    },
    {
      "cell_type": "code",
      "metadata": {
        "execution": {
          "iopub.status.busy": "2021-05-23T04:56:48.8782Z",
          "iopub.execute_input": "2021-05-23T04:56:48.87852Z",
          "iopub.status.idle": "2021-05-23T04:56:51.401511Z",
          "shell.execute_reply.started": "2021-05-23T04:56:48.878486Z",
          "shell.execute_reply": "2021-05-23T04:56:51.400497Z"
        },
        "trusted": true,
        "colab": {
          "base_uri": "https://localhost:8080/"
        },
        "id": "Br6IzFW7fvEE",
        "outputId": "ff55989a-0d90-4923-a229-c4562c017a87"
      },
      "source": [
        "features = ['AMT_CREDIT_MAX_OVERDUE', 'AMT_CREDIT_SUM_OVERDUE', 'AMT_CREDIT_SUM',\n",
        "    'AMT_CREDIT_SUM_DEBT', 'DEBT_PERCENTAGE', 'DEBT_CREDIT_DIFF', 'STATUS_0', 'STATUS_12345']\n",
        "agg_length = bureau.groupby('MONTHS_BALANCE_SIZE')[features].mean().reset_index()\n",
        "agg_length.rename({feat: 'LL_' + feat for feat in features}, axis=1, inplace=True)\n",
        "bureau = bureau.merge(agg_length, how='left', on='MONTHS_BALANCE_SIZE')\n",
        "del agg_length; gc.collect()"
      ],
      "execution_count": 33,
      "outputs": [
        {
          "output_type": "execute_result",
          "data": {
            "text/plain": [
              "50"
            ]
          },
          "metadata": {
            "tags": []
          },
          "execution_count": 33
        }
      ]
    },
    {
      "cell_type": "code",
      "metadata": {
        "execution": {
          "iopub.status.busy": "2021-05-23T04:56:51.402787Z",
          "iopub.execute_input": "2021-05-23T04:56:51.403109Z",
          "iopub.status.idle": "2021-05-23T04:56:51.418287Z",
          "shell.execute_reply.started": "2021-05-23T04:56:51.40308Z",
          "shell.execute_reply": "2021-05-23T04:56:51.416897Z"
        },
        "trusted": true,
        "id": "EBx-5Fk_fvEE"
      },
      "source": [
        "BUREAU_AGG = {\n",
        "    'SK_ID_BUREAU': ['nunique'],\n",
        "    'DAYS_CREDIT': ['min', 'max', 'mean'],\n",
        "    'DAYS_CREDIT_ENDDATE': ['min', 'max'],\n",
        "    'AMT_CREDIT_MAX_OVERDUE': ['max', 'mean'],\n",
        "    'AMT_CREDIT_SUM': ['max', 'mean', 'sum'],\n",
        "    'AMT_CREDIT_SUM_DEBT': ['max', 'mean', 'sum'],\n",
        "    'AMT_CREDIT_SUM_OVERDUE': ['max', 'mean', 'sum'],\n",
        "    'AMT_ANNUITY': ['mean'],\n",
        "    'DEBT_CREDIT_DIFF': ['mean', 'sum'],\n",
        "    'MONTHS_BALANCE_MEAN': ['mean', 'var'],\n",
        "    'MONTHS_BALANCE_SIZE': ['mean', 'sum'],\n",
        "    'STATUS_0': ['mean'],\n",
        "    'STATUS_1': ['mean'],\n",
        "    'STATUS_12345': ['mean'],\n",
        "    'STATUS_C': ['mean'],\n",
        "    'STATUS_X': ['mean'],\n",
        "    'CREDIT_ACTIVE_Active': ['mean'],\n",
        "    'CREDIT_ACTIVE_Closed': ['mean'],\n",
        "    'CREDIT_ACTIVE_Sold': ['mean'],\n",
        "    'CREDIT_TYPE_Consumer credit': ['mean'],\n",
        "    'CREDIT_TYPE_Credit card': ['mean'],\n",
        "    'CREDIT_TYPE_Car loan': ['mean'],\n",
        "    'CREDIT_TYPE_Mortgage': ['mean'],\n",
        "    'CREDIT_TYPE_Microloan': ['mean'],\n",
        "    'LL_AMT_CREDIT_SUM_OVERDUE': ['mean'],\n",
        "    'LL_DEBT_CREDIT_DIFF': ['mean'],\n",
        "    'LL_STATUS_12345': ['mean'],\n",
        "}\n",
        "\n",
        "BUREAU_ACTIVE_AGG = {\n",
        "    'DAYS_CREDIT': ['max', 'mean'],\n",
        "    'DAYS_CREDIT_ENDDATE': ['min', 'max'],\n",
        "    'AMT_CREDIT_MAX_OVERDUE': ['max', 'mean'],\n",
        "    'AMT_CREDIT_SUM': ['max', 'sum'],\n",
        "    'AMT_CREDIT_SUM_DEBT': ['mean', 'sum'],\n",
        "    'AMT_CREDIT_SUM_OVERDUE': ['max', 'mean'],\n",
        "    'DAYS_CREDIT_UPDATE': ['min', 'mean'],\n",
        "    'DEBT_PERCENTAGE': ['mean'],\n",
        "    'DEBT_CREDIT_DIFF': ['mean'],\n",
        "    'CREDIT_TO_ANNUITY_RATIO': ['mean'],\n",
        "    'MONTHS_BALANCE_MEAN': ['mean', 'var'],\n",
        "    'MONTHS_BALANCE_SIZE': ['mean', 'sum'],\n",
        "}\n",
        "\n",
        "BUREAU_CLOSED_AGG = {\n",
        "    'DAYS_CREDIT': ['max', 'var'],\n",
        "    'DAYS_CREDIT_ENDDATE': ['max'],\n",
        "    'AMT_CREDIT_MAX_OVERDUE': ['max', 'mean'],\n",
        "    'AMT_CREDIT_SUM_OVERDUE': ['mean'],\n",
        "    'AMT_CREDIT_SUM': ['max', 'mean', 'sum'],\n",
        "    'AMT_CREDIT_SUM_DEBT': ['max', 'sum'],\n",
        "    'DAYS_CREDIT_UPDATE': ['max'],\n",
        "    'ENDDATE_DIF': ['mean'],\n",
        "    'STATUS_12345': ['mean'],\n",
        "}\n",
        "\n",
        "BUREAU_LOAN_TYPE_AGG = {\n",
        "    'DAYS_CREDIT': ['mean', 'max'],\n",
        "    'AMT_CREDIT_MAX_OVERDUE': ['mean', 'max'],\n",
        "    'AMT_CREDIT_SUM': ['mean', 'max'],\n",
        "    'AMT_CREDIT_SUM_DEBT': ['mean', 'max'],\n",
        "    'DEBT_PERCENTAGE': ['mean'],\n",
        "    'DEBT_CREDIT_DIFF': ['mean'],\n",
        "    'DAYS_CREDIT_ENDDATE': ['max'],\n",
        "}\n",
        "\n",
        "BUREAU_TIME_AGG = {\n",
        "    'AMT_CREDIT_MAX_OVERDUE': ['max', 'mean'],\n",
        "    'AMT_CREDIT_SUM_OVERDUE': ['mean'],\n",
        "    'AMT_CREDIT_SUM': ['max', 'sum'],\n",
        "    'AMT_CREDIT_SUM_DEBT': ['mean', 'sum'],\n",
        "    'DEBT_PERCENTAGE': ['mean'],\n",
        "    'DEBT_CREDIT_DIFF': ['mean'],\n",
        "    'STATUS_0': ['mean'],\n",
        "    'STATUS_12345': ['mean'],\n",
        "}"
      ],
      "execution_count": 34,
      "outputs": []
    },
    {
      "cell_type": "code",
      "metadata": {
        "execution": {
          "iopub.status.busy": "2021-05-23T04:56:51.420236Z",
          "iopub.execute_input": "2021-05-23T04:56:51.420687Z",
          "iopub.status.idle": "2021-05-23T04:57:01.768711Z",
          "shell.execute_reply.started": "2021-05-23T04:56:51.420639Z",
          "shell.execute_reply": "2021-05-23T04:57:01.767633Z"
        },
        "trusted": true,
        "id": "dun76VF7fvEF"
      },
      "source": [
        "agg_bureau = group(bureau, 'BUREAU_', BUREAU_AGG)\n",
        "active = bureau[bureau['CREDIT_ACTIVE_Active'] == 1]\n",
        "agg_bureau = group_and_merge(active,agg_bureau,'BUREAU_ACTIVE_',BUREAU_ACTIVE_AGG)\n",
        "closed = bureau[bureau['CREDIT_ACTIVE_Closed'] == 1]\n",
        "agg_bureau = group_and_merge(closed,agg_bureau,'BUREAU_CLOSED_',BUREAU_CLOSED_AGG)\n",
        "del active, closed; gc.collect()\n",
        "for credit_type in ['Consumer credit', 'Credit card', 'Mortgage', 'Car loan', 'Microloan']:\n",
        "    type_df = bureau[bureau['CREDIT_TYPE_' + credit_type] == 1]\n",
        "    prefix = 'BUREAU_' + credit_type.split(' ')[0].upper() + '_'\n",
        "    agg_bureau = group_and_merge(type_df, agg_bureau, prefix, BUREAU_LOAN_TYPE_AGG)\n",
        "    del type_df; gc.collect()\n",
        "for time_frame in [6, 12]:\n",
        "    prefix = \"BUREAU_LAST{}M_\".format(time_frame)\n",
        "    time_frame_df = bureau[bureau['DAYS_CREDIT'] >= -30*time_frame]\n",
        "    agg_bureau = group_and_merge(time_frame_df, agg_bureau, prefix, BUREAU_TIME_AGG)\n",
        "    del time_frame_df; gc.collect()"
      ],
      "execution_count": 35,
      "outputs": []
    },
    {
      "cell_type": "code",
      "metadata": {
        "execution": {
          "iopub.status.busy": "2021-05-23T04:57:01.770615Z",
          "iopub.execute_input": "2021-05-23T04:57:01.771056Z",
          "iopub.status.idle": "2021-05-23T04:57:04.319726Z",
          "shell.execute_reply.started": "2021-05-23T04:57:01.771009Z",
          "shell.execute_reply": "2021-05-23T04:57:04.318657Z"
        },
        "trusted": true,
        "id": "uu17NWC9fvEF"
      },
      "source": [
        "sort_bureau = bureau.sort_values(by=['DAYS_CREDIT'])\n",
        "gr = sort_bureau.groupby('SK_ID_CURR')['AMT_CREDIT_MAX_OVERDUE'].last().reset_index()\n",
        "gr.rename({'AMT_CREDIT_MAX_OVERDUE': 'BUREAU_LAST_LOAN_MAX_OVERDUE'}, inplace=True)\n",
        "agg_bureau = agg_bureau.merge(gr, on='SK_ID_CURR', how='left')\n",
        "agg_bureau['BUREAU_DEBT_OVER_CREDIT'] = \\\n",
        "    agg_bureau['BUREAU_AMT_CREDIT_SUM_DEBT_SUM']/agg_bureau['BUREAU_AMT_CREDIT_SUM_SUM']\n",
        "agg_bureau['BUREAU_ACTIVE_DEBT_OVER_CREDIT'] = \\\n",
        "    agg_bureau['BUREAU_ACTIVE_AMT_CREDIT_SUM_DEBT_SUM']/agg_bureau['BUREAU_ACTIVE_AMT_CREDIT_SUM_SUM']"
      ],
      "execution_count": 36,
      "outputs": []
    },
    {
      "cell_type": "code",
      "metadata": {
        "execution": {
          "iopub.status.busy": "2021-05-23T04:57:04.321113Z",
          "iopub.execute_input": "2021-05-23T04:57:04.321423Z",
          "iopub.status.idle": "2021-05-23T04:57:05.717182Z",
          "shell.execute_reply.started": "2021-05-23T04:57:04.321389Z",
          "shell.execute_reply": "2021-05-23T04:57:05.71608Z"
        },
        "trusted": true,
        "colab": {
          "base_uri": "https://localhost:8080/"
        },
        "id": "RJ1GVozgfvEG",
        "outputId": "a4d0f86c-13e9-4aa2-b334-726202ef61dc"
      },
      "source": [
        "df = pd.merge(df, agg_bureau, on='SK_ID_CURR', how='left')\n",
        "del agg_bureau, bureau\n",
        "gc.collect()"
      ],
      "execution_count": 37,
      "outputs": [
        {
          "output_type": "execute_result",
          "data": {
            "text/plain": [
              "50"
            ]
          },
          "metadata": {
            "tags": []
          },
          "execution_count": 37
        }
      ]
    },
    {
      "cell_type": "code",
      "metadata": {
        "execution": {
          "iopub.status.busy": "2021-05-23T04:57:05.718765Z",
          "iopub.execute_input": "2021-05-23T04:57:05.719364Z",
          "iopub.status.idle": "2021-05-23T04:57:35.251645Z",
          "shell.execute_reply.started": "2021-05-23T04:57:05.719318Z",
          "shell.execute_reply": "2021-05-23T04:57:35.250584Z"
        },
        "trusted": true,
        "id": "TK28yDE_fvEG"
      },
      "source": [
        "prev = pd.read_csv(os.path.join(DATA_DIRECTORY, 'previous_application.csv'))\n",
        "pay = pd.read_csv(os.path.join(DATA_DIRECTORY, 'installments_payments.csv'))"
      ],
      "execution_count": 38,
      "outputs": []
    },
    {
      "cell_type": "code",
      "metadata": {
        "execution": {
          "iopub.status.busy": "2021-05-23T04:57:35.253026Z",
          "iopub.execute_input": "2021-05-23T04:57:35.253333Z",
          "iopub.status.idle": "2021-05-23T04:57:35.272778Z",
          "shell.execute_reply.started": "2021-05-23T04:57:35.253302Z",
          "shell.execute_reply": "2021-05-23T04:57:35.271486Z"
        },
        "trusted": true,
        "id": "DimspUdZfvEG"
      },
      "source": [
        "PREVIOUS_AGG = {\n",
        "    'SK_ID_PREV': ['nunique'],\n",
        "    'AMT_ANNUITY': ['min', 'max', 'mean'],\n",
        "    'AMT_DOWN_PAYMENT': ['max', 'mean'],\n",
        "    'HOUR_APPR_PROCESS_START': ['min', 'max', 'mean'],\n",
        "    'RATE_DOWN_PAYMENT': ['max', 'mean'],\n",
        "    'DAYS_DECISION': ['min', 'max', 'mean'],\n",
        "    'CNT_PAYMENT': ['max', 'mean'],\n",
        "    'DAYS_TERMINATION': ['max'],\n",
        "    # Engineered features\n",
        "    'CREDIT_TO_ANNUITY_RATIO': ['mean', 'max'],\n",
        "    'APPLICATION_CREDIT_DIFF': ['min', 'max', 'mean'],\n",
        "    'APPLICATION_CREDIT_RATIO': ['min', 'max', 'mean', 'var'],\n",
        "    'DOWN_PAYMENT_TO_CREDIT': ['mean'],\n",
        "}\n",
        "\n",
        "PREVIOUS_ACTIVE_AGG = {\n",
        "    'SK_ID_PREV': ['nunique'],\n",
        "    'SIMPLE_INTERESTS': ['mean'],\n",
        "    'AMT_ANNUITY': ['max', 'sum'],\n",
        "    'AMT_APPLICATION': ['max', 'mean'],\n",
        "    'AMT_CREDIT': ['sum'],\n",
        "    'AMT_DOWN_PAYMENT': ['max', 'mean'],\n",
        "    'DAYS_DECISION': ['min', 'mean'],\n",
        "    'CNT_PAYMENT': ['mean', 'sum'],\n",
        "    'DAYS_LAST_DUE_1ST_VERSION': ['min', 'max', 'mean'],\n",
        "    # Engineered features\n",
        "    'AMT_PAYMENT': ['sum'],\n",
        "    'INSTALMENT_PAYMENT_DIFF': ['mean', 'max'],\n",
        "    'REMAINING_DEBT': ['max', 'mean', 'sum'],\n",
        "    'REPAYMENT_RATIO': ['mean'],\n",
        "}\n",
        "PREVIOUS_LATE_PAYMENTS_AGG = {\n",
        "    'DAYS_DECISION': ['min', 'max', 'mean'],\n",
        "    'DAYS_LAST_DUE_1ST_VERSION': ['min', 'max', 'mean'],\n",
        "    # Engineered features\n",
        "    'APPLICATION_CREDIT_DIFF': ['min'],\n",
        "    'NAME_CONTRACT_TYPE_Consumer loans': ['mean'],\n",
        "    'NAME_CONTRACT_TYPE_Cash loans': ['mean'],\n",
        "    'NAME_CONTRACT_TYPE_Revolving loans': ['mean'],\n",
        "}\n",
        "\n",
        "PREVIOUS_LOAN_TYPE_AGG = {\n",
        "    'AMT_CREDIT': ['sum'],\n",
        "    'AMT_ANNUITY': ['mean', 'max'],\n",
        "    'SIMPLE_INTERESTS': ['min', 'mean', 'max', 'var'],\n",
        "    'APPLICATION_CREDIT_DIFF': ['min', 'var'],\n",
        "    'APPLICATION_CREDIT_RATIO': ['min', 'max', 'mean'],\n",
        "    'DAYS_DECISION': ['max'],\n",
        "    'DAYS_LAST_DUE_1ST_VERSION': ['max', 'mean'],\n",
        "    'CNT_PAYMENT': ['mean'],\n",
        "}\n",
        "\n",
        "PREVIOUS_TIME_AGG = {\n",
        "    'AMT_CREDIT': ['sum'],\n",
        "    'AMT_ANNUITY': ['mean', 'max'],\n",
        "    'SIMPLE_INTERESTS': ['mean', 'max'],\n",
        "    'DAYS_DECISION': ['min', 'mean'],\n",
        "    'DAYS_LAST_DUE_1ST_VERSION': ['min', 'max', 'mean'],\n",
        "    # Engineered features\n",
        "    'APPLICATION_CREDIT_DIFF': ['min'],\n",
        "    'APPLICATION_CREDIT_RATIO': ['min', 'max', 'mean'],\n",
        "    'NAME_CONTRACT_TYPE_Consumer loans': ['mean'],\n",
        "    'NAME_CONTRACT_TYPE_Cash loans': ['mean'],\n",
        "    'NAME_CONTRACT_TYPE_Revolving loans': ['mean'],\n",
        "}\n",
        "\n",
        "PREVIOUS_APPROVED_AGG = {\n",
        "    'SK_ID_PREV': ['nunique'],\n",
        "    'AMT_ANNUITY': ['min', 'max', 'mean'],\n",
        "    'AMT_CREDIT': ['min', 'max', 'mean'],\n",
        "    'AMT_DOWN_PAYMENT': ['max'],\n",
        "    'AMT_GOODS_PRICE': ['max'],\n",
        "    'HOUR_APPR_PROCESS_START': ['min', 'max'],\n",
        "    'DAYS_DECISION': ['min', 'mean'],\n",
        "    'CNT_PAYMENT': ['max', 'mean'],\n",
        "    'DAYS_TERMINATION': ['mean'],\n",
        "    # Engineered features\n",
        "    'CREDIT_TO_ANNUITY_RATIO': ['mean', 'max'],\n",
        "    'APPLICATION_CREDIT_DIFF': ['max'],\n",
        "    'APPLICATION_CREDIT_RATIO': ['min', 'max', 'mean'],\n",
        "    # The following features are only for approved applications\n",
        "    'DAYS_FIRST_DRAWING': ['max', 'mean'],\n",
        "    'DAYS_FIRST_DUE': ['min', 'mean'],\n",
        "    'DAYS_LAST_DUE_1ST_VERSION': ['min', 'max', 'mean'],\n",
        "    'DAYS_LAST_DUE': ['max', 'mean'],\n",
        "    'DAYS_LAST_DUE_DIFF': ['min', 'max', 'mean'],\n",
        "    'SIMPLE_INTERESTS': ['min', 'max', 'mean'],\n",
        "}\n",
        "\n",
        "PREVIOUS_REFUSED_AGG = {\n",
        "    'AMT_APPLICATION': ['max', 'mean'],\n",
        "    'AMT_CREDIT': ['min', 'max'],\n",
        "    'DAYS_DECISION': ['min', 'max', 'mean'],\n",
        "    'CNT_PAYMENT': ['max', 'mean'],\n",
        "    # Engineered features\n",
        "    'APPLICATION_CREDIT_DIFF': ['min', 'max', 'mean', 'var'],\n",
        "    'APPLICATION_CREDIT_RATIO': ['min', 'mean'],\n",
        "    'NAME_CONTRACT_TYPE_Consumer loans': ['mean'],\n",
        "    'NAME_CONTRACT_TYPE_Cash loans': ['mean'],\n",
        "    'NAME_CONTRACT_TYPE_Revolving loans': ['mean'],\n",
        "}\n"
      ],
      "execution_count": 39,
      "outputs": []
    },
    {
      "cell_type": "code",
      "metadata": {
        "execution": {
          "iopub.status.busy": "2021-05-23T04:57:35.274277Z",
          "iopub.execute_input": "2021-05-23T04:57:35.274619Z",
          "iopub.status.idle": "2021-05-23T04:57:37.495634Z",
          "shell.execute_reply.started": "2021-05-23T04:57:35.274577Z",
          "shell.execute_reply": "2021-05-23T04:57:37.494458Z"
        },
        "trusted": true,
        "id": "aMtS_j-0fvEG"
      },
      "source": [
        "ohe_columns = [\n",
        "    'NAME_CONTRACT_STATUS', 'NAME_CONTRACT_TYPE', 'CHANNEL_TYPE',\n",
        "    'NAME_TYPE_SUITE', 'NAME_YIELD_GROUP', 'PRODUCT_COMBINATION',\n",
        "    'NAME_PRODUCT_TYPE', 'NAME_CLIENT_TYPE']\n",
        "prev, categorical_cols = one_hot_encoder(prev, ohe_columns, nan_as_category= False)"
      ],
      "execution_count": 40,
      "outputs": []
    },
    {
      "cell_type": "code",
      "metadata": {
        "execution": {
          "iopub.status.busy": "2021-05-23T04:57:37.497029Z",
          "iopub.execute_input": "2021-05-23T04:57:37.497321Z",
          "iopub.status.idle": "2021-05-23T04:57:37.55411Z",
          "shell.execute_reply.started": "2021-05-23T04:57:37.497293Z",
          "shell.execute_reply": "2021-05-23T04:57:37.553076Z"
        },
        "trusted": true,
        "id": "pRCjHKr_fvEH"
      },
      "source": [
        "prev['APPLICATION_CREDIT_DIFF'] = prev['AMT_APPLICATION'] - prev['AMT_CREDIT']\n",
        "prev['APPLICATION_CREDIT_RATIO'] = prev['AMT_APPLICATION'] / prev['AMT_CREDIT']\n",
        "prev['CREDIT_TO_ANNUITY_RATIO'] = prev['AMT_CREDIT']/prev['AMT_ANNUITY']\n",
        "prev['DOWN_PAYMENT_TO_CREDIT'] = prev['AMT_DOWN_PAYMENT'] / prev['AMT_CREDIT']\n",
        "total_payment = prev['AMT_ANNUITY'] * prev['CNT_PAYMENT']\n",
        "prev['SIMPLE_INTERESTS'] = (total_payment/prev['AMT_CREDIT'] - 1)/prev['CNT_PAYMENT']"
      ],
      "execution_count": 41,
      "outputs": []
    },
    {
      "cell_type": "code",
      "metadata": {
        "execution": {
          "iopub.status.busy": "2021-05-23T04:57:37.555494Z",
          "iopub.execute_input": "2021-05-23T04:57:37.555803Z",
          "iopub.status.idle": "2021-05-23T04:57:40.478581Z",
          "shell.execute_reply.started": "2021-05-23T04:57:37.555774Z",
          "shell.execute_reply": "2021-05-23T04:57:40.477341Z"
        },
        "trusted": true,
        "colab": {
          "base_uri": "https://localhost:8080/"
        },
        "id": "kKtpSpdvfvEH",
        "outputId": "cb04cae7-36cb-410f-fbf1-4767da62e4fe"
      },
      "source": [
        "approved = prev[prev['NAME_CONTRACT_STATUS_Approved'] == 1]\n",
        "active_df = approved[approved['DAYS_LAST_DUE'] == 365243]\n",
        "active_pay = pay[pay['SK_ID_PREV'].isin(active_df['SK_ID_PREV'])]\n",
        "active_pay_agg = active_pay.groupby('SK_ID_PREV')[['AMT_INSTALMENT', 'AMT_PAYMENT']].sum()\n",
        "active_pay_agg.reset_index(inplace= True)\n",
        "active_pay_agg['INSTALMENT_PAYMENT_DIFF'] = active_pay_agg['AMT_INSTALMENT'] - active_pay_agg['AMT_PAYMENT']\n",
        "active_df = active_df.merge(active_pay_agg, on= 'SK_ID_PREV', how= 'left')\n",
        "active_df['REMAINING_DEBT'] = active_df['AMT_CREDIT'] - active_df['AMT_PAYMENT']\n",
        "active_df['REPAYMENT_RATIO'] = active_df['AMT_PAYMENT'] / active_df['AMT_CREDIT']\n",
        "active_agg_df = group(active_df, 'PREV_ACTIVE_', PREVIOUS_ACTIVE_AGG)\n",
        "active_agg_df['TOTAL_REPAYMENT_RATIO'] = active_agg_df['PREV_ACTIVE_AMT_PAYMENT_SUM']/\\\n",
        "                                            active_agg_df['PREV_ACTIVE_AMT_CREDIT_SUM']\n",
        "del active_pay, active_pay_agg, active_df; gc.collect()"
      ],
      "execution_count": 42,
      "outputs": [
        {
          "output_type": "execute_result",
          "data": {
            "text/plain": [
              "0"
            ]
          },
          "metadata": {
            "tags": []
          },
          "execution_count": 42
        }
      ]
    },
    {
      "cell_type": "code",
      "metadata": {
        "execution": {
          "iopub.status.busy": "2021-05-23T04:57:40.480118Z",
          "iopub.execute_input": "2021-05-23T04:57:40.48052Z",
          "iopub.status.idle": "2021-05-23T04:57:40.517646Z",
          "shell.execute_reply.started": "2021-05-23T04:57:40.480486Z",
          "shell.execute_reply": "2021-05-23T04:57:40.516674Z"
        },
        "trusted": true,
        "id": "cy_90CNPfvEH"
      },
      "source": [
        "prev['DAYS_FIRST_DRAWING'].replace(365243, np.nan, inplace= True)\n",
        "prev['DAYS_FIRST_DUE'].replace(365243, np.nan, inplace= True)\n",
        "prev['DAYS_LAST_DUE_1ST_VERSION'].replace(365243, np.nan, inplace= True)\n",
        "prev['DAYS_LAST_DUE'].replace(365243, np.nan, inplace= True)\n",
        "prev['DAYS_TERMINATION'].replace(365243, np.nan, inplace= True)"
      ],
      "execution_count": 43,
      "outputs": []
    },
    {
      "cell_type": "code",
      "metadata": {
        "execution": {
          "iopub.status.busy": "2021-05-23T04:57:40.519121Z",
          "iopub.execute_input": "2021-05-23T04:57:40.519506Z",
          "iopub.status.idle": "2021-05-23T04:57:40.540027Z",
          "shell.execute_reply.started": "2021-05-23T04:57:40.519467Z",
          "shell.execute_reply": "2021-05-23T04:57:40.538631Z"
        },
        "trusted": true,
        "colab": {
          "base_uri": "https://localhost:8080/"
        },
        "id": "oKkzGTKDfvEH",
        "outputId": "7a986527-09a2-4dfe-b534-3eb5a0bfc0b8"
      },
      "source": [
        "prev['DAYS_LAST_DUE_DIFF'] = prev['DAYS_LAST_DUE_1ST_VERSION'] - prev['DAYS_LAST_DUE']\n",
        "approved['DAYS_LAST_DUE_DIFF'] = approved['DAYS_LAST_DUE_1ST_VERSION'] - approved['DAYS_LAST_DUE']"
      ],
      "execution_count": 44,
      "outputs": [
        {
          "output_type": "stream",
          "text": [
            "/usr/local/lib/python3.7/dist-packages/ipykernel_launcher.py:2: SettingWithCopyWarning: \n",
            "A value is trying to be set on a copy of a slice from a DataFrame.\n",
            "Try using .loc[row_indexer,col_indexer] = value instead\n",
            "\n",
            "See the caveats in the documentation: https://pandas.pydata.org/pandas-docs/stable/user_guide/indexing.html#returning-a-view-versus-a-copy\n",
            "  \n"
          ],
          "name": "stderr"
        }
      ]
    },
    {
      "cell_type": "code",
      "metadata": {
        "execution": {
          "iopub.status.busy": "2021-05-23T04:57:40.541424Z",
          "iopub.execute_input": "2021-05-23T04:57:40.541757Z",
          "iopub.status.idle": "2021-05-23T04:57:40.546662Z",
          "shell.execute_reply.started": "2021-05-23T04:57:40.54172Z",
          "shell.execute_reply": "2021-05-23T04:57:40.545559Z"
        },
        "trusted": true,
        "id": "S7__kCNdfvEH"
      },
      "source": [
        "categorical_agg = {key: ['mean'] for key in categorical_cols}"
      ],
      "execution_count": 45,
      "outputs": []
    },
    {
      "cell_type": "code",
      "metadata": {
        "execution": {
          "iopub.status.busy": "2021-05-23T04:57:40.548083Z",
          "iopub.execute_input": "2021-05-23T04:57:40.548403Z",
          "iopub.status.idle": "2021-05-23T04:57:46.162132Z",
          "shell.execute_reply.started": "2021-05-23T04:57:40.548371Z",
          "shell.execute_reply": "2021-05-23T04:57:46.161096Z"
        },
        "trusted": true,
        "colab": {
          "base_uri": "https://localhost:8080/"
        },
        "id": "gMbsbdBxfvEH",
        "outputId": "5656bf84-c1da-4c41-a48f-57a53ddf5518"
      },
      "source": [
        "agg_prev = group(prev, 'PREV_', {**PREVIOUS_AGG, **categorical_agg})\n",
        "agg_prev = agg_prev.merge(active_agg_df, how='left', on='SK_ID_CURR')\n",
        "del active_agg_df; gc.collect()"
      ],
      "execution_count": 46,
      "outputs": [
        {
          "output_type": "execute_result",
          "data": {
            "text/plain": [
              "0"
            ]
          },
          "metadata": {
            "tags": []
          },
          "execution_count": 46
        }
      ]
    },
    {
      "cell_type": "code",
      "metadata": {
        "execution": {
          "iopub.status.busy": "2021-05-23T04:57:46.163601Z",
          "iopub.execute_input": "2021-05-23T04:57:46.163889Z",
          "iopub.status.idle": "2021-05-23T04:57:49.723309Z",
          "shell.execute_reply.started": "2021-05-23T04:57:46.163861Z",
          "shell.execute_reply": "2021-05-23T04:57:49.722105Z"
        },
        "trusted": true,
        "colab": {
          "base_uri": "https://localhost:8080/"
        },
        "id": "p1RNgm09fvEI",
        "outputId": "38d108ce-37d8-445a-d9f3-434236f5c3bc"
      },
      "source": [
        "agg_prev = group_and_merge(approved, agg_prev, 'APPROVED_', PREVIOUS_APPROVED_AGG)\n",
        "refused = prev[prev['NAME_CONTRACT_STATUS_Refused'] == 1]\n",
        "agg_prev = group_and_merge(refused, agg_prev, 'REFUSED_', PREVIOUS_REFUSED_AGG)\n",
        "del approved, refused; gc.collect()"
      ],
      "execution_count": 47,
      "outputs": [
        {
          "output_type": "execute_result",
          "data": {
            "text/plain": [
              "0"
            ]
          },
          "metadata": {
            "tags": []
          },
          "execution_count": 47
        }
      ]
    },
    {
      "cell_type": "code",
      "metadata": {
        "execution": {
          "iopub.status.busy": "2021-05-23T04:57:49.724638Z",
          "iopub.execute_input": "2021-05-23T04:57:49.724918Z",
          "iopub.status.idle": "2021-05-23T04:57:52.782621Z",
          "shell.execute_reply.started": "2021-05-23T04:57:49.72489Z",
          "shell.execute_reply": "2021-05-23T04:57:52.781464Z"
        },
        "trusted": true,
        "id": "O7qD6BA0fvEI"
      },
      "source": [
        "for loan_type in ['Consumer loans', 'Cash loans']:\n",
        "    type_df = prev[prev['NAME_CONTRACT_TYPE_{}'.format(loan_type)] == 1]\n",
        "    prefix = 'PREV_' + loan_type.split(\" \")[0] + '_'\n",
        "    agg_prev = group_and_merge(type_df, agg_prev, prefix, PREVIOUS_LOAN_TYPE_AGG)\n",
        "    del type_df; gc.collect()"
      ],
      "execution_count": 48,
      "outputs": []
    },
    {
      "cell_type": "code",
      "metadata": {
        "execution": {
          "iopub.status.busy": "2021-05-23T04:57:52.783995Z",
          "iopub.execute_input": "2021-05-23T04:57:52.784298Z",
          "iopub.status.idle": "2021-05-23T04:58:02.920491Z",
          "shell.execute_reply.started": "2021-05-23T04:57:52.784267Z",
          "shell.execute_reply": "2021-05-23T04:58:02.919368Z"
        },
        "trusted": true,
        "id": "CY0nCa6YfvEI"
      },
      "source": [
        "pay['LATE_PAYMENT'] = pay['DAYS_ENTRY_PAYMENT'] - pay['DAYS_INSTALMENT']\n",
        "pay['LATE_PAYMENT'] = pay['LATE_PAYMENT'].apply(lambda x: 1 if x > 0 else 0)\n",
        "dpd_id = pay[pay['LATE_PAYMENT'] > 0]['SK_ID_PREV'].unique()"
      ],
      "execution_count": 49,
      "outputs": []
    },
    {
      "cell_type": "code",
      "metadata": {
        "execution": {
          "iopub.status.busy": "2021-05-23T04:58:02.922034Z",
          "iopub.execute_input": "2021-05-23T04:58:02.922454Z",
          "iopub.status.idle": "2021-05-23T04:58:03.932884Z",
          "shell.execute_reply.started": "2021-05-23T04:58:02.922408Z",
          "shell.execute_reply": "2021-05-23T04:58:03.93167Z"
        },
        "trusted": true,
        "colab": {
          "base_uri": "https://localhost:8080/"
        },
        "id": "fJEKqzojfvEI",
        "outputId": "0adfb591-3f50-4b5e-d50f-c7852e9714d5"
      },
      "source": [
        "agg_dpd = group_and_merge(prev[prev['SK_ID_PREV'].isin(dpd_id)], agg_prev,\n",
        "                                    'PREV_LATE_', PREVIOUS_LATE_PAYMENTS_AGG)\n",
        "del agg_dpd, dpd_id; gc.collect()"
      ],
      "execution_count": 50,
      "outputs": [
        {
          "output_type": "execute_result",
          "data": {
            "text/plain": [
              "0"
            ]
          },
          "metadata": {
            "tags": []
          },
          "execution_count": 50
        }
      ]
    },
    {
      "cell_type": "code",
      "metadata": {
        "execution": {
          "iopub.status.busy": "2021-05-23T04:58:03.934608Z",
          "iopub.execute_input": "2021-05-23T04:58:03.935063Z",
          "iopub.status.idle": "2021-05-23T04:58:07.434998Z",
          "shell.execute_reply.started": "2021-05-23T04:58:03.935016Z",
          "shell.execute_reply": "2021-05-23T04:58:07.434Z"
        },
        "trusted": true,
        "colab": {
          "base_uri": "https://localhost:8080/"
        },
        "id": "KtR6hzvqfvEI",
        "outputId": "d3cba547-4be7-4b65-e10c-87968bf130cc"
      },
      "source": [
        "for time_frame in [12, 24]:\n",
        "    time_frame_df = prev[prev['DAYS_DECISION'] >= -30*time_frame]\n",
        "    prefix = 'PREV_LAST{}M_'.format(time_frame)\n",
        "    agg_prev = group_and_merge(time_frame_df, agg_prev, prefix, PREVIOUS_TIME_AGG)\n",
        "    del time_frame_df; gc.collect()\n",
        "del prev; gc.collect()"
      ],
      "execution_count": 51,
      "outputs": [
        {
          "output_type": "execute_result",
          "data": {
            "text/plain": [
              "0"
            ]
          },
          "metadata": {
            "tags": []
          },
          "execution_count": 51
        }
      ]
    },
    {
      "cell_type": "code",
      "metadata": {
        "execution": {
          "iopub.status.busy": "2021-05-23T04:58:07.436073Z",
          "iopub.execute_input": "2021-05-23T04:58:07.436359Z",
          "iopub.status.idle": "2021-05-23T04:58:10.965262Z",
          "shell.execute_reply.started": "2021-05-23T04:58:07.43633Z",
          "shell.execute_reply": "2021-05-23T04:58:10.964114Z"
        },
        "trusted": true,
        "colab": {
          "base_uri": "https://localhost:8080/"
        },
        "id": "xoQyR7H0fvEI",
        "outputId": "8dc5154e-a9bd-420f-80b2-2ef1ecf6f358"
      },
      "source": [
        "df = pd.merge(df, agg_prev, on='SK_ID_CURR', how='left')\n",
        "del agg_prev; gc.collect()"
      ],
      "execution_count": 52,
      "outputs": [
        {
          "output_type": "execute_result",
          "data": {
            "text/plain": [
              "50"
            ]
          },
          "metadata": {
            "tags": []
          },
          "execution_count": 52
        }
      ]
    },
    {
      "cell_type": "code",
      "metadata": {
        "execution": {
          "iopub.status.busy": "2021-05-23T04:58:10.966715Z",
          "iopub.execute_input": "2021-05-23T04:58:10.96702Z",
          "iopub.status.idle": "2021-05-23T04:58:23.326202Z",
          "shell.execute_reply.started": "2021-05-23T04:58:10.966989Z",
          "shell.execute_reply": "2021-05-23T04:58:23.325133Z"
        },
        "trusted": true,
        "id": "DRPV_MkNfvEJ"
      },
      "source": [
        "pos = pd.read_csv(os.path.join(DATA_DIRECTORY, 'POS_CASH_balance.csv'))\n",
        "pos, categorical_cols = one_hot_encoder(pos, nan_as_category= False)"
      ],
      "execution_count": 53,
      "outputs": []
    },
    {
      "cell_type": "code",
      "metadata": {
        "execution": {
          "iopub.status.busy": "2021-05-23T04:58:23.327802Z",
          "iopub.execute_input": "2021-05-23T04:58:23.328203Z",
          "iopub.status.idle": "2021-05-23T04:58:29.333373Z",
          "shell.execute_reply.started": "2021-05-23T04:58:23.32816Z",
          "shell.execute_reply": "2021-05-23T04:58:29.332356Z"
        },
        "trusted": true,
        "id": "sUcHMMAPfvEJ"
      },
      "source": [
        "pos['LATE_PAYMENT'] = pos['SK_DPD'].apply(lambda x: 1 if x > 0 else 0)"
      ],
      "execution_count": 54,
      "outputs": []
    },
    {
      "cell_type": "code",
      "metadata": {
        "execution": {
          "iopub.status.busy": "2021-05-23T04:58:29.334991Z",
          "iopub.execute_input": "2021-05-23T04:58:29.335423Z",
          "iopub.status.idle": "2021-05-23T04:58:40.688295Z",
          "shell.execute_reply.started": "2021-05-23T04:58:29.33538Z",
          "shell.execute_reply": "2021-05-23T04:58:40.68724Z"
        },
        "trusted": true,
        "id": "oaZhWd2pfvEJ"
      },
      "source": [
        "POS_CASH_AGG = {\n",
        "    'SK_ID_PREV': ['nunique'],\n",
        "    'MONTHS_BALANCE': ['min', 'max', 'size'],\n",
        "    'SK_DPD': ['max', 'mean', 'sum', 'var'],\n",
        "    'SK_DPD_DEF': ['max', 'mean', 'sum'],\n",
        "    'LATE_PAYMENT': ['mean']\n",
        "}\n",
        "\n",
        "categorical_agg = {key: ['mean'] for key in categorical_cols}\n",
        "pos_agg = group(pos, 'POS_', {**POS_CASH_AGG, **categorical_agg})"
      ],
      "execution_count": null,
      "outputs": []
    },
    {
      "cell_type": "code",
      "metadata": {
        "execution": {
          "iopub.status.busy": "2021-05-23T04:58:40.689593Z",
          "iopub.execute_input": "2021-05-23T04:58:40.689878Z",
          "iopub.status.idle": "2021-05-23T04:59:06.906368Z",
          "shell.execute_reply.started": "2021-05-23T04:58:40.689849Z",
          "shell.execute_reply": "2021-05-23T04:59:06.904958Z"
        },
        "trusted": true,
        "id": "2W8LswKEfvEJ"
      },
      "source": [
        "sort_pos = pos.sort_values(by=['SK_ID_PREV', 'MONTHS_BALANCE'])\n",
        "gp = sort_pos.groupby('SK_ID_PREV')\n",
        "temp = pd.DataFrame()\n",
        "temp['SK_ID_CURR'] = gp['SK_ID_CURR'].first()\n",
        "temp['MONTHS_BALANCE_MAX'] = gp['MONTHS_BALANCE'].max()"
      ],
      "execution_count": 56,
      "outputs": []
    },
    {
      "cell_type": "code",
      "metadata": {
        "execution": {
          "iopub.status.busy": "2021-05-23T04:59:06.908483Z",
          "iopub.execute_input": "2021-05-23T04:59:06.908963Z",
          "iopub.status.idle": "2021-05-23T04:59:21.163061Z",
          "shell.execute_reply.started": "2021-05-23T04:59:06.908917Z",
          "shell.execute_reply": "2021-05-23T04:59:21.162175Z"
        },
        "trusted": true,
        "id": "fGb58fVgfvEJ"
      },
      "source": [
        "temp['POS_LOAN_COMPLETED_MEAN'] = gp['NAME_CONTRACT_STATUS_Completed'].mean()\n",
        "temp['POS_COMPLETED_BEFORE_MEAN'] = gp['CNT_INSTALMENT'].first() - gp['CNT_INSTALMENT'].last()\n",
        "temp['POS_COMPLETED_BEFORE_MEAN'] = temp.apply(lambda x: 1 if x['POS_COMPLETED_BEFORE_MEAN'] > 0\n",
        "                                            and x['POS_LOAN_COMPLETED_MEAN'] > 0 else 0, axis=1)"
      ],
      "execution_count": 57,
      "outputs": []
    },
    {
      "cell_type": "code",
      "metadata": {
        "execution": {
          "iopub.status.busy": "2021-05-23T04:59:21.164531Z",
          "iopub.execute_input": "2021-05-23T04:59:21.165195Z",
          "iopub.status.idle": "2021-05-23T04:59:21.33061Z",
          "shell.execute_reply.started": "2021-05-23T04:59:21.165143Z",
          "shell.execute_reply": "2021-05-23T04:59:21.329777Z"
        },
        "trusted": true,
        "id": "OO5yJzmDfvEJ"
      },
      "source": [
        "temp['POS_REMAINING_INSTALMENTS'] = gp['CNT_INSTALMENT_FUTURE'].last()\n",
        "temp['POS_REMAINING_INSTALMENTS_RATIO'] = gp['CNT_INSTALMENT_FUTURE'].last()/gp['CNT_INSTALMENT'].last()"
      ],
      "execution_count": 58,
      "outputs": []
    },
    {
      "cell_type": "code",
      "metadata": {
        "execution": {
          "iopub.status.busy": "2021-05-23T04:59:21.331806Z",
          "iopub.execute_input": "2021-05-23T04:59:21.332214Z",
          "iopub.status.idle": "2021-05-23T04:59:22.087047Z",
          "shell.execute_reply.started": "2021-05-23T04:59:21.332183Z",
          "shell.execute_reply": "2021-05-23T04:59:22.085664Z"
        },
        "trusted": true,
        "colab": {
          "base_uri": "https://localhost:8080/"
        },
        "id": "MEv7JqcJfvEK",
        "outputId": "eb69bb4b-7db0-49be-89b8-0f12f74e33af"
      },
      "source": [
        "temp_gp = temp.groupby('SK_ID_CURR').sum().reset_index()\n",
        "temp_gp.drop(['MONTHS_BALANCE_MAX'], axis=1, inplace= True)\n",
        "pos_agg = pd.merge(pos_agg, temp_gp, on= 'SK_ID_CURR', how= 'left')\n",
        "del temp, gp, temp_gp, sort_pos; gc.collect()"
      ],
      "execution_count": 59,
      "outputs": [
        {
          "output_type": "execute_result",
          "data": {
            "text/plain": [
              "100"
            ]
          },
          "metadata": {
            "tags": []
          },
          "execution_count": 59
        }
      ]
    },
    {
      "cell_type": "code",
      "metadata": {
        "execution": {
          "iopub.status.busy": "2021-05-23T04:59:22.088909Z",
          "iopub.execute_input": "2021-05-23T04:59:22.089393Z",
          "iopub.status.idle": "2021-05-23T04:59:29.220061Z",
          "shell.execute_reply.started": "2021-05-23T04:59:22.089341Z",
          "shell.execute_reply": "2021-05-23T04:59:29.218932Z"
        },
        "trusted": true,
        "id": "cvF8ll7zfvEK"
      },
      "source": [
        "pos = do_sum(pos, ['SK_ID_PREV'], 'LATE_PAYMENT', 'LATE_PAYMENT_SUM')"
      ],
      "execution_count": 60,
      "outputs": []
    },
    {
      "cell_type": "code",
      "metadata": {
        "execution": {
          "iopub.status.busy": "2021-05-23T04:59:29.221523Z",
          "iopub.execute_input": "2021-05-23T04:59:29.221862Z",
          "iopub.status.idle": "2021-05-23T05:00:32.173003Z",
          "shell.execute_reply.started": "2021-05-23T04:59:29.221828Z",
          "shell.execute_reply": "2021-05-23T05:00:32.171735Z"
        },
        "trusted": true,
        "id": "Oq4_EqNnfvEK"
      },
      "source": [
        "last_month_df = pos.groupby('SK_ID_PREV')['MONTHS_BALANCE'].idxmax()"
      ],
      "execution_count": 61,
      "outputs": []
    },
    {
      "cell_type": "code",
      "metadata": {
        "execution": {
          "iopub.status.busy": "2021-05-23T05:00:32.174706Z",
          "iopub.execute_input": "2021-05-23T05:00:32.175053Z",
          "iopub.status.idle": "2021-05-23T05:00:51.310456Z",
          "shell.execute_reply.started": "2021-05-23T05:00:32.175018Z",
          "shell.execute_reply": "2021-05-23T05:00:51.309268Z"
        },
        "trusted": true,
        "id": "X7wY3nANfvEK"
      },
      "source": [
        "sort_pos = pos.sort_values(by=['SK_ID_PREV', 'MONTHS_BALANCE'])\n",
        "gp = sort_pos.iloc[last_month_df].groupby('SK_ID_CURR').tail(3)\n",
        "gp_mean = gp.groupby('SK_ID_CURR').mean().reset_index()\n",
        "pos_agg = pd.merge(pos_agg, gp_mean[['SK_ID_CURR','LATE_PAYMENT_SUM']], on='SK_ID_CURR', how='left')"
      ],
      "execution_count": 62,
      "outputs": []
    },
    {
      "cell_type": "code",
      "metadata": {
        "execution": {
          "iopub.status.busy": "2021-05-23T05:00:51.312148Z",
          "iopub.execute_input": "2021-05-23T05:00:51.312482Z",
          "iopub.status.idle": "2021-05-23T05:00:51.399456Z",
          "shell.execute_reply.started": "2021-05-23T05:00:51.312447Z",
          "shell.execute_reply": "2021-05-23T05:00:51.398274Z"
        },
        "trusted": true,
        "id": "_Pu9XXz7fvEK"
      },
      "source": [
        "drop_features = [\n",
        "    'POS_NAME_CONTRACT_STATUS_Canceled_MEAN', 'POS_NAME_CONTRACT_STATUS_Amortized debt_MEAN',\n",
        "    'POS_NAME_CONTRACT_STATUS_XNA_MEAN']\n",
        "pos_agg.drop(drop_features, axis=1, inplace=True)"
      ],
      "execution_count": 63,
      "outputs": []
    },
    {
      "cell_type": "code",
      "metadata": {
        "execution": {
          "iopub.status.busy": "2021-05-23T05:00:51.400873Z",
          "iopub.execute_input": "2021-05-23T05:00:51.401189Z",
          "iopub.status.idle": "2021-05-23T05:00:53.094808Z",
          "shell.execute_reply.started": "2021-05-23T05:00:51.401155Z",
          "shell.execute_reply": "2021-05-23T05:00:53.093748Z"
        },
        "trusted": true,
        "id": "wEBJeLzIfvEK"
      },
      "source": [
        "df = pd.merge(df, pos_agg, on='SK_ID_CURR', how='left')"
      ],
      "execution_count": 64,
      "outputs": []
    },
    {
      "cell_type": "code",
      "metadata": {
        "execution": {
          "iopub.status.busy": "2021-05-23T05:00:53.096327Z",
          "iopub.execute_input": "2021-05-23T05:00:53.096662Z",
          "iopub.status.idle": "2021-05-23T05:01:24.368243Z",
          "shell.execute_reply.started": "2021-05-23T05:00:53.096628Z",
          "shell.execute_reply": "2021-05-23T05:01:24.367029Z"
        },
        "trusted": true,
        "id": "5Uquq6bIfvEL"
      },
      "source": [
        "pay = do_sum(pay, ['SK_ID_PREV', 'NUM_INSTALMENT_NUMBER'], 'AMT_PAYMENT', 'AMT_PAYMENT_GROUPED')\n",
        "pay['PAYMENT_DIFFERENCE'] = pay['AMT_INSTALMENT'] - pay['AMT_PAYMENT_GROUPED']\n",
        "pay['PAYMENT_RATIO'] = pay['AMT_INSTALMENT'] / pay['AMT_PAYMENT_GROUPED']\n",
        "pay['PAID_OVER_AMOUNT'] = pay['AMT_PAYMENT'] - pay['AMT_INSTALMENT']\n",
        "pay['PAID_OVER'] = (pay['PAID_OVER_AMOUNT'] > 0).astype(int)"
      ],
      "execution_count": 65,
      "outputs": []
    },
    {
      "cell_type": "code",
      "metadata": {
        "execution": {
          "iopub.status.busy": "2021-05-23T05:01:24.369897Z",
          "iopub.execute_input": "2021-05-23T05:01:24.370203Z",
          "iopub.status.idle": "2021-05-23T05:01:40.649616Z",
          "shell.execute_reply.started": "2021-05-23T05:01:24.370172Z",
          "shell.execute_reply": "2021-05-23T05:01:40.648459Z"
        },
        "trusted": true,
        "id": "uu06JXUBfvEL"
      },
      "source": [
        "pay['DPD'] = pay['DAYS_ENTRY_PAYMENT'] - pay['DAYS_INSTALMENT']\n",
        "pay['DPD'] = pay['DPD'].apply(lambda x: 0 if x <= 0 else x)\n",
        "pay['DBD'] = pay['DAYS_INSTALMENT'] - pay['DAYS_ENTRY_PAYMENT']\n",
        "pay['DBD'] = pay['DBD'].apply(lambda x: 0 if x <= 0 else x)"
      ],
      "execution_count": 66,
      "outputs": []
    },
    {
      "cell_type": "code",
      "metadata": {
        "execution": {
          "iopub.status.busy": "2021-05-23T05:01:40.651141Z",
          "iopub.execute_input": "2021-05-23T05:01:40.651423Z",
          "iopub.status.idle": "2021-05-23T05:01:49.86158Z",
          "shell.execute_reply.started": "2021-05-23T05:01:40.651394Z",
          "shell.execute_reply": "2021-05-23T05:01:49.860252Z"
        },
        "trusted": true,
        "id": "Fnmt7K3ofvEL"
      },
      "source": [
        "pay['LATE_PAYMENT'] = pay['DBD'].apply(lambda x: 1 if x > 0 else 0)"
      ],
      "execution_count": 67,
      "outputs": []
    },
    {
      "cell_type": "code",
      "metadata": {
        "execution": {
          "iopub.status.busy": "2021-05-23T05:01:49.863112Z",
          "iopub.execute_input": "2021-05-23T05:01:49.863411Z",
          "iopub.status.idle": "2021-05-23T05:05:41.49738Z",
          "shell.execute_reply.started": "2021-05-23T05:01:49.86338Z",
          "shell.execute_reply": "2021-05-23T05:05:41.496162Z"
        },
        "trusted": true,
        "id": "2ts1QqkkfvEL"
      },
      "source": [
        "pay['INSTALMENT_PAYMENT_RATIO'] = pay['AMT_PAYMENT'] / pay['AMT_INSTALMENT']\n",
        "pay['LATE_PAYMENT_RATIO'] = pay.apply(lambda x: x['INSTALMENT_PAYMENT_RATIO'] if x['LATE_PAYMENT'] == 1 else 0, axis=1)"
      ],
      "execution_count": 68,
      "outputs": []
    },
    {
      "cell_type": "code",
      "metadata": {
        "execution": {
          "iopub.status.busy": "2021-05-23T05:05:41.501654Z",
          "iopub.execute_input": "2021-05-23T05:05:41.501992Z",
          "iopub.status.idle": "2021-05-23T05:05:50.731471Z",
          "shell.execute_reply.started": "2021-05-23T05:05:41.501956Z",
          "shell.execute_reply": "2021-05-23T05:05:50.730401Z"
        },
        "trusted": true,
        "id": "cX7qT6dPfvEL"
      },
      "source": [
        "pay['SIGNIFICANT_LATE_PAYMENT'] = pay['LATE_PAYMENT_RATIO'].apply(lambda x: 1 if x > 0.05 else 0)"
      ],
      "execution_count": 69,
      "outputs": []
    },
    {
      "cell_type": "code",
      "metadata": {
        "execution": {
          "iopub.status.busy": "2021-05-23T05:05:50.732831Z",
          "iopub.execute_input": "2021-05-23T05:05:50.733273Z",
          "iopub.status.idle": "2021-05-23T05:06:09.45818Z",
          "shell.execute_reply.started": "2021-05-23T05:05:50.733229Z",
          "shell.execute_reply": "2021-05-23T05:06:09.457121Z"
        },
        "trusted": true,
        "id": "IWWzMR8WfvEL"
      },
      "source": [
        "pay['DPD_7'] = pay['DPD'].apply(lambda x: 1 if x >= 7 else 0)\n",
        "pay['DPD_15'] = pay['DPD'].apply(lambda x: 1 if x >= 15 else 0)"
      ],
      "execution_count": 70,
      "outputs": []
    },
    {
      "cell_type": "code",
      "metadata": {
        "execution": {
          "iopub.status.busy": "2021-05-23T05:06:09.459806Z",
          "iopub.execute_input": "2021-05-23T05:06:09.460277Z",
          "iopub.status.idle": "2021-05-23T05:06:24.672161Z",
          "shell.execute_reply.started": "2021-05-23T05:06:09.460226Z",
          "shell.execute_reply": "2021-05-23T05:06:24.671032Z"
        },
        "trusted": true,
        "id": "PDOerU_bfvEM"
      },
      "source": [
        "INSTALLMENTS_AGG = {\n",
        "    'SK_ID_PREV': ['size', 'nunique'],\n",
        "    'DAYS_ENTRY_PAYMENT': ['min', 'max', 'mean'],\n",
        "    'AMT_INSTALMENT': ['min', 'max', 'mean', 'sum'],\n",
        "    'AMT_PAYMENT': ['min', 'max', 'mean', 'sum'],\n",
        "    'DPD': ['max', 'mean', 'var'],\n",
        "    'DBD': ['max', 'mean', 'var'],\n",
        "    'PAYMENT_DIFFERENCE': ['mean'],\n",
        "    'PAYMENT_RATIO': ['mean'],\n",
        "    'LATE_PAYMENT': ['mean', 'sum'],\n",
        "    'SIGNIFICANT_LATE_PAYMENT': ['mean', 'sum'],\n",
        "    'LATE_PAYMENT_RATIO': ['mean'],\n",
        "    'DPD_7': ['mean'],\n",
        "    'DPD_15': ['mean'],\n",
        "    'PAID_OVER': ['mean']\n",
        "}\n",
        "\n",
        "pay_agg = group(pay, 'INS_', INSTALLMENTS_AGG)"
      ],
      "execution_count": null,
      "outputs": []
    },
    {
      "cell_type": "code",
      "metadata": {
        "execution": {
          "iopub.status.busy": "2021-05-23T05:06:24.673811Z",
          "iopub.execute_input": "2021-05-23T05:06:24.674142Z",
          "iopub.status.idle": "2021-05-23T05:06:47.413288Z",
          "shell.execute_reply.started": "2021-05-23T05:06:24.674107Z",
          "shell.execute_reply": "2021-05-23T05:06:47.411885Z"
        },
        "trusted": true,
        "id": "4cxhtjXZfvEM"
      },
      "source": [
        "INSTALLMENTS_TIME_AGG = {\n",
        "    'SK_ID_PREV': ['size'],\n",
        "    'DAYS_ENTRY_PAYMENT': ['min', 'max', 'mean'],\n",
        "    'AMT_INSTALMENT': ['min', 'max', 'mean', 'sum'],\n",
        "    'AMT_PAYMENT': ['min', 'max', 'mean', 'sum'],\n",
        "    'DPD': ['max', 'mean', 'var'],\n",
        "    'DBD': ['max', 'mean', 'var'],\n",
        "    'PAYMENT_DIFFERENCE': ['mean'],\n",
        "    'PAYMENT_RATIO': ['mean'],\n",
        "    'LATE_PAYMENT': ['mean'],\n",
        "    'SIGNIFICANT_LATE_PAYMENT': ['mean'],\n",
        "    'LATE_PAYMENT_RATIO': ['mean'],\n",
        "    'DPD_7': ['mean'],\n",
        "    'DPD_15': ['mean'],\n",
        "}\n",
        "\n",
        "for months in [36, 60]:\n",
        "    recent_prev_id = pay[pay['DAYS_INSTALMENT'] >= -30*months]['SK_ID_PREV'].unique()\n",
        "    pay_recent = pay[pay['SK_ID_PREV'].isin(recent_prev_id)]\n",
        "    prefix = 'INS_{}M_'.format(months)\n",
        "    pay_agg = group_and_merge(pay_recent, pay_agg, prefix, INSTALLMENTS_TIME_AGG)"
      ],
      "execution_count": null,
      "outputs": []
    },
    {
      "cell_type": "code",
      "metadata": {
        "execution": {
          "iopub.status.busy": "2021-05-23T05:06:47.414959Z",
          "iopub.execute_input": "2021-05-23T05:06:47.415269Z",
          "iopub.status.idle": "2021-05-23T05:06:47.426865Z",
          "shell.execute_reply.started": "2021-05-23T05:06:47.415239Z",
          "shell.execute_reply": "2021-05-23T05:06:47.425616Z"
        },
        "trusted": true,
        "id": "jrgz3KSWfvEM"
      },
      "source": [
        "def add_features_in_group(features, gr_, feature_name, aggs, prefix):\n",
        "    for agg in aggs:\n",
        "        if agg == 'sum':\n",
        "            features['{}{}_sum'.format(prefix, feature_name)] = gr_[feature_name].sum()\n",
        "        elif agg == 'mean':\n",
        "            features['{}{}_mean'.format(prefix, feature_name)] = gr_[feature_name].mean()\n",
        "        elif agg == 'max':\n",
        "            features['{}{}_max'.format(prefix, feature_name)] = gr_[feature_name].max()\n",
        "        elif agg == 'min':\n",
        "            features['{}{}_min'.format(prefix, feature_name)] = gr_[feature_name].min()\n",
        "        elif agg == 'std':\n",
        "            features['{}{}_std'.format(prefix, feature_name)] = gr_[feature_name].std()\n",
        "        elif agg == 'count':\n",
        "            features['{}{}_count'.format(prefix, feature_name)] = gr_[feature_name].count()\n",
        "        elif agg == 'skew':\n",
        "            features['{}{}_skew'.format(prefix, feature_name)] = skew(gr_[feature_name])\n",
        "        elif agg == 'kurt':\n",
        "            features['{}{}_kurt'.format(prefix, feature_name)] = kurtosis(gr_[feature_name])\n",
        "        elif agg == 'iqr':\n",
        "            features['{}{}_iqr'.format(prefix, feature_name)] = iqr(gr_[feature_name])\n",
        "        elif agg == 'median':\n",
        "            features['{}{}_median'.format(prefix, feature_name)] = gr_[feature_name].median()\n",
        "    return features"
      ],
      "execution_count": null,
      "outputs": []
    },
    {
      "cell_type": "code",
      "metadata": {
        "execution": {
          "iopub.status.busy": "2021-05-23T05:06:47.428993Z",
          "iopub.execute_input": "2021-05-23T05:06:47.429632Z",
          "iopub.status.idle": "2021-05-23T05:06:47.447998Z",
          "shell.execute_reply.started": "2021-05-23T05:06:47.429581Z",
          "shell.execute_reply": "2021-05-23T05:06:47.446859Z"
        },
        "trusted": true,
        "id": "SC_YdOTnfvEM"
      },
      "source": [
        "def chunk_groups(groupby_object, chunk_size):\n",
        "    n_groups = groupby_object.ngroups\n",
        "    group_chunk, index_chunk = [], []\n",
        "    for i, (index, df) in enumerate(groupby_object):\n",
        "        group_chunk.append(df)\n",
        "        index_chunk.append(index)\n",
        "        if (i + 1) % chunk_size == 0 or i + 1 == n_groups:\n",
        "            group_chunk_, index_chunk_ = group_chunk.copy(), index_chunk.copy()\n",
        "            group_chunk, index_chunk = [], []\n",
        "            yield index_chunk_, group_chunk_"
      ],
      "execution_count": null,
      "outputs": []
    },
    {
      "cell_type": "code",
      "metadata": {
        "execution": {
          "iopub.status.busy": "2021-05-23T05:06:47.450675Z",
          "iopub.execute_input": "2021-05-23T05:06:47.451114Z",
          "iopub.status.idle": "2021-05-23T05:06:47.462492Z",
          "shell.execute_reply.started": "2021-05-23T05:06:47.451069Z",
          "shell.execute_reply": "2021-05-23T05:06:47.461235Z"
        },
        "trusted": true,
        "id": "6Qwkz1R6fvEM"
      },
      "source": [
        "def add_trend_feature(features, gr, feature_name, prefix):\n",
        "    y = gr[feature_name].values\n",
        "    try:\n",
        "        x = np.arange(0, len(y)).reshape(-1, 1)\n",
        "        lr = LinearRegression()\n",
        "        lr.fit(x, y)\n",
        "        trend = lr.coef_[0]\n",
        "    except:\n",
        "        trend = np.nan\n",
        "    features['{}{}'.format(prefix, feature_name)] = trend\n",
        "    return features"
      ],
      "execution_count": null,
      "outputs": []
    },
    {
      "cell_type": "code",
      "metadata": {
        "execution": {
          "iopub.status.busy": "2021-05-23T05:06:47.471572Z",
          "iopub.execute_input": "2021-05-23T05:06:47.471965Z",
          "iopub.status.idle": "2021-05-23T05:06:47.481911Z",
          "shell.execute_reply.started": "2021-05-23T05:06:47.471921Z",
          "shell.execute_reply": "2021-05-23T05:06:47.48083Z"
        },
        "trusted": true,
        "id": "9IAqfPACfvEN"
      },
      "source": [
        "def parallel_apply(groups, func, index_name='Index', num_workers=0, chunk_size=100000):\n",
        "    if num_workers <= 0: num_workers = 8\n",
        "    #n_chunks = np.ceil(1.0 * groups.ngroups / chunk_size)\n",
        "    indeces, features = [], []\n",
        "    for index_chunk, groups_chunk in chunk_groups(groups, chunk_size):\n",
        "        with mp.pool.Pool(num_workers) as executor:\n",
        "            features_chunk = executor.map(func, groups_chunk)\n",
        "        features.extend(features_chunk)\n",
        "        indeces.extend(index_chunk)\n",
        "\n",
        "    features = pd.DataFrame(features)\n",
        "    features.index = indeces\n",
        "    features.index.name = index_name\n",
        "    return features"
      ],
      "execution_count": null,
      "outputs": []
    },
    {
      "cell_type": "code",
      "metadata": {
        "execution": {
          "iopub.status.busy": "2021-05-23T05:06:47.485178Z",
          "iopub.execute_input": "2021-05-23T05:06:47.485713Z",
          "iopub.status.idle": "2021-05-23T05:12:13.395256Z",
          "shell.execute_reply.started": "2021-05-23T05:06:47.485677Z",
          "shell.execute_reply": "2021-05-23T05:12:13.394155Z"
        },
        "trusted": true,
        "id": "xsFKZmAlfvEN"
      },
      "source": [
        "def trend_in_last_k_instalment_features(gr, periods):\n",
        "    gr_ = gr.copy()\n",
        "    gr_.sort_values(['DAYS_INSTALMENT'], ascending=False, inplace=True)\n",
        "    features = {}\n",
        "\n",
        "    for period in periods:\n",
        "        gr_period = gr_.iloc[:period]\n",
        "        features = add_trend_feature(features, gr_period, 'DPD',\n",
        "                                           '{}_TREND_'.format(period))\n",
        "        features = add_trend_feature(features, gr_period, 'PAID_OVER_AMOUNT',\n",
        "                                           '{}_TREND_'.format(period))\n",
        "    return features\n",
        "\n",
        "group_features = ['SK_ID_CURR', 'SK_ID_PREV', 'DPD', 'LATE_PAYMENT',\n",
        "                  'PAID_OVER_AMOUNT', 'PAID_OVER', 'DAYS_INSTALMENT']\n",
        "gp = pay[group_features].groupby('SK_ID_CURR')\n",
        "func = partial(trend_in_last_k_instalment_features, periods=[12, 24, 60, 120])\n",
        "g = parallel_apply(gp, func, index_name='SK_ID_CURR', chunk_size=10000).reset_index()\n",
        "pay_agg = pay_agg.merge(g, on='SK_ID_CURR', how='left')"
      ],
      "execution_count": null,
      "outputs": []
    },
    {
      "cell_type": "code",
      "metadata": {
        "execution": {
          "iopub.status.busy": "2021-05-23T05:12:13.39671Z",
          "iopub.execute_input": "2021-05-23T05:12:13.397184Z",
          "iopub.status.idle": "2021-05-23T05:21:05.559768Z",
          "shell.execute_reply.started": "2021-05-23T05:12:13.397144Z",
          "shell.execute_reply": "2021-05-23T05:21:05.558209Z"
        },
        "trusted": true,
        "id": "ZFzMYZnRfvEN"
      },
      "source": [
        "def installments_last_loan_features(gr):\n",
        "    gr_ = gr.copy()\n",
        "    gr_.sort_values(['DAYS_INSTALMENT'], ascending=False, inplace=True)\n",
        "    last_installment_id = gr_['SK_ID_PREV'].iloc[0]\n",
        "    gr_ = gr_[gr_['SK_ID_PREV'] == last_installment_id]\n",
        "\n",
        "    features = {}\n",
        "    features = add_features_in_group(features, gr_, 'DPD',\n",
        "                                     ['sum', 'mean', 'max', 'std'],\n",
        "                                     'LAST_LOAN_')\n",
        "    features = add_features_in_group(features, gr_, 'LATE_PAYMENT',\n",
        "                                     ['count', 'mean'],\n",
        "                                     'LAST_LOAN_')\n",
        "    features = add_features_in_group(features, gr_, 'PAID_OVER_AMOUNT',\n",
        "                                     ['sum', 'mean', 'max', 'min', 'std'],\n",
        "                                     'LAST_LOAN_')\n",
        "    features = add_features_in_group(features, gr_, 'PAID_OVER',\n",
        "                                     ['count', 'mean'],\n",
        "                                     'LAST_LOAN_')\n",
        "    return features\n",
        "\n",
        "g = parallel_apply(gp, installments_last_loan_features, index_name='SK_ID_CURR', chunk_size=10000).reset_index()\n",
        "pay_agg = pay_agg.merge(g, on='SK_ID_CURR', how='left')"
      ],
      "execution_count": null,
      "outputs": []
    },
    {
      "cell_type": "code",
      "metadata": {
        "execution": {
          "iopub.status.busy": "2021-05-23T05:21:05.561847Z",
          "iopub.execute_input": "2021-05-23T05:21:05.562217Z",
          "iopub.status.idle": "2021-05-23T05:21:09.109466Z",
          "shell.execute_reply.started": "2021-05-23T05:21:05.562178Z",
          "shell.execute_reply": "2021-05-23T05:21:09.10864Z"
        },
        "trusted": true,
        "id": "VRas5FZafvEN"
      },
      "source": [
        "df = pd.merge(df, pay_agg, on='SK_ID_CURR', how='left')\n",
        "del pay_agg, gp, pay; gc.collect()"
      ],
      "execution_count": null,
      "outputs": []
    },
    {
      "cell_type": "code",
      "metadata": {
        "execution": {
          "iopub.status.busy": "2021-05-23T05:21:09.11077Z",
          "iopub.execute_input": "2021-05-23T05:21:09.111225Z",
          "iopub.status.idle": "2021-05-23T05:21:23.97389Z",
          "shell.execute_reply.started": "2021-05-23T05:21:09.111173Z",
          "shell.execute_reply": "2021-05-23T05:21:23.972475Z"
        },
        "trusted": true,
        "id": "2e95uvEZfvEN"
      },
      "source": [
        "cc = pd.read_csv(os.path.join(DATA_DIRECTORY, 'credit_card_balance.csv'))\n",
        "cc, cat_cols = one_hot_encoder(cc, nan_as_category=False)\n",
        "cc.rename(columns={'AMT_RECIVABLE': 'AMT_RECEIVABLE'}, inplace=True)"
      ],
      "execution_count": null,
      "outputs": []
    },
    {
      "cell_type": "code",
      "metadata": {
        "execution": {
          "iopub.status.busy": "2021-05-23T05:21:23.975526Z",
          "iopub.execute_input": "2021-05-23T05:21:23.975852Z",
          "iopub.status.idle": "2021-05-23T05:21:24.006868Z",
          "shell.execute_reply.started": "2021-05-23T05:21:23.975822Z",
          "shell.execute_reply": "2021-05-23T05:21:24.005511Z"
        },
        "trusted": true,
        "id": "Zq77SAhGfvEN"
      },
      "source": [
        "cc['LIMIT_USE'] = cc['AMT_BALANCE'] / cc['AMT_CREDIT_LIMIT_ACTUAL']"
      ],
      "execution_count": null,
      "outputs": []
    },
    {
      "cell_type": "code",
      "metadata": {
        "execution": {
          "iopub.status.busy": "2021-05-23T05:21:24.008876Z",
          "iopub.execute_input": "2021-05-23T05:21:24.009341Z",
          "iopub.status.idle": "2021-05-23T05:21:24.043635Z",
          "shell.execute_reply.started": "2021-05-23T05:21:24.009292Z",
          "shell.execute_reply": "2021-05-23T05:21:24.042333Z"
        },
        "trusted": true,
        "id": "p9owpV45fvEO"
      },
      "source": [
        "cc['PAYMENT_DIV_MIN'] = cc['AMT_PAYMENT_CURRENT'] / cc['AMT_INST_MIN_REGULARITY']"
      ],
      "execution_count": null,
      "outputs": []
    },
    {
      "cell_type": "code",
      "metadata": {
        "execution": {
          "iopub.status.busy": "2021-05-23T05:21:24.045186Z",
          "iopub.execute_input": "2021-05-23T05:21:24.045495Z",
          "iopub.status.idle": "2021-05-23T05:21:26.288701Z",
          "shell.execute_reply.started": "2021-05-23T05:21:24.045464Z",
          "shell.execute_reply": "2021-05-23T05:21:26.287436Z"
        },
        "trusted": true,
        "id": "tQQZETBofvEO"
      },
      "source": [
        "cc['LATE_PAYMENT'] = cc['SK_DPD'].apply(lambda x: 1 if x > 0 else 0)"
      ],
      "execution_count": null,
      "outputs": []
    },
    {
      "cell_type": "code",
      "metadata": {
        "execution": {
          "iopub.status.busy": "2021-05-23T05:21:26.290253Z",
          "iopub.execute_input": "2021-05-23T05:21:26.290565Z",
          "iopub.status.idle": "2021-05-23T05:21:26.336499Z",
          "shell.execute_reply.started": "2021-05-23T05:21:26.290519Z",
          "shell.execute_reply": "2021-05-23T05:21:26.335168Z"
        },
        "trusted": true,
        "id": "OSjn_Ng_fvEO"
      },
      "source": [
        "cc['DRAWING_LIMIT_RATIO'] = cc['AMT_DRAWINGS_ATM_CURRENT'] / cc['AMT_CREDIT_LIMIT_ACTUAL']"
      ],
      "execution_count": null,
      "outputs": []
    },
    {
      "cell_type": "code",
      "metadata": {
        "execution": {
          "iopub.status.busy": "2021-05-23T05:21:26.337866Z",
          "iopub.execute_input": "2021-05-23T05:21:26.338167Z",
          "iopub.status.idle": "2021-05-23T05:21:28.766338Z",
          "shell.execute_reply.started": "2021-05-23T05:21:26.338138Z",
          "shell.execute_reply": "2021-05-23T05:21:28.765083Z"
        },
        "trusted": true,
        "id": "Q3lP62brfvEO"
      },
      "source": [
        "CREDIT_CARD_AGG = {\n",
        "    'MONTHS_BALANCE': ['min'],\n",
        "    'AMT_BALANCE': ['max'],\n",
        "    'AMT_CREDIT_LIMIT_ACTUAL': ['max'],\n",
        "    'AMT_DRAWINGS_ATM_CURRENT': ['max', 'sum'],\n",
        "    'AMT_DRAWINGS_CURRENT': ['max', 'sum'],\n",
        "    'AMT_DRAWINGS_POS_CURRENT': ['max', 'sum'],\n",
        "    'AMT_INST_MIN_REGULARITY': ['max', 'mean'],\n",
        "    'AMT_PAYMENT_TOTAL_CURRENT': ['max', 'mean', 'sum', 'var'],\n",
        "    'AMT_TOTAL_RECEIVABLE': ['max', 'mean'],\n",
        "    'CNT_DRAWINGS_ATM_CURRENT': ['max', 'mean', 'sum'],\n",
        "    'CNT_DRAWINGS_CURRENT': ['max', 'mean', 'sum'],\n",
        "    'CNT_DRAWINGS_POS_CURRENT': ['mean'],\n",
        "    'SK_DPD': ['mean', 'max', 'sum'],\n",
        "    'SK_DPD_DEF': ['max', 'sum'],\n",
        "    'LIMIT_USE': ['max', 'mean'],\n",
        "    'PAYMENT_DIV_MIN': ['min', 'mean'],\n",
        "    'LATE_PAYMENT': ['max', 'sum'],\n",
        "}\n",
        "\n",
        "cc_agg = cc.groupby('SK_ID_CURR').agg(CREDIT_CARD_AGG)\n",
        "cc_agg.columns = pd.Index(['CC_' + e[0] + \"_\" + e[1].upper() for e in cc_agg.columns.tolist()])\n",
        "cc_agg.reset_index(inplace= True)"
      ],
      "execution_count": null,
      "outputs": []
    },
    {
      "cell_type": "code",
      "metadata": {
        "execution": {
          "iopub.status.busy": "2021-05-23T05:21:28.768887Z",
          "iopub.execute_input": "2021-05-23T05:21:28.769393Z",
          "iopub.status.idle": "2021-05-23T05:21:37.348311Z",
          "shell.execute_reply.started": "2021-05-23T05:21:28.76934Z",
          "shell.execute_reply": "2021-05-23T05:21:37.347129Z"
        },
        "trusted": true,
        "id": "sYlkVrfCfvEO"
      },
      "source": [
        "last_ids = cc.groupby('SK_ID_PREV')['MONTHS_BALANCE'].idxmax()\n",
        "last_months_df = cc[cc.index.isin(last_ids)]\n",
        "cc_agg = group_and_merge(last_months_df,cc_agg,'CC_LAST_', {'AMT_BALANCE': ['mean', 'max']})"
      ],
      "execution_count": null,
      "outputs": []
    },
    {
      "cell_type": "code",
      "metadata": {
        "execution": {
          "iopub.status.busy": "2021-05-23T05:21:37.349919Z",
          "iopub.execute_input": "2021-05-23T05:21:37.350374Z",
          "iopub.status.idle": "2021-05-23T05:21:43.416742Z",
          "shell.execute_reply.started": "2021-05-23T05:21:37.350326Z",
          "shell.execute_reply": "2021-05-23T05:21:43.415605Z"
        },
        "trusted": true,
        "id": "xJ4dpQtofvEO"
      },
      "source": [
        "CREDIT_CARD_TIME_AGG = {\n",
        "    'CNT_DRAWINGS_ATM_CURRENT': ['mean'],\n",
        "    'SK_DPD': ['max', 'sum'],\n",
        "    'AMT_BALANCE': ['mean', 'max'],\n",
        "    'LIMIT_USE': ['max', 'mean']\n",
        "}\n",
        "\n",
        "for months in [12, 24, 48]:\n",
        "    cc_prev_id = cc[cc['MONTHS_BALANCE'] >= -months]['SK_ID_PREV'].unique()\n",
        "    cc_recent = cc[cc['SK_ID_PREV'].isin(cc_prev_id)]\n",
        "    prefix = 'INS_{}M_'.format(months)\n",
        "    cc_agg = group_and_merge(cc_recent, cc_agg, prefix, CREDIT_CARD_TIME_AGG)"
      ],
      "execution_count": null,
      "outputs": []
    },
    {
      "cell_type": "code",
      "metadata": {
        "execution": {
          "iopub.status.busy": "2021-05-23T05:21:43.418769Z",
          "iopub.execute_input": "2021-05-23T05:21:43.419197Z",
          "iopub.status.idle": "2021-05-23T05:21:46.214816Z",
          "shell.execute_reply.started": "2021-05-23T05:21:43.419148Z",
          "shell.execute_reply": "2021-05-23T05:21:46.213808Z"
        },
        "trusted": true,
        "id": "woq5rGjYfvEP"
      },
      "source": [
        "df = pd.merge(df, cc_agg, on='SK_ID_CURR', how='left')\n",
        "del cc, cc_agg; gc.collect()"
      ],
      "execution_count": null,
      "outputs": []
    },
    {
      "cell_type": "code",
      "metadata": {
        "execution": {
          "iopub.status.busy": "2021-05-23T05:21:46.216352Z",
          "iopub.execute_input": "2021-05-23T05:21:46.216689Z",
          "iopub.status.idle": "2021-05-23T05:21:46.226862Z",
          "shell.execute_reply.started": "2021-05-23T05:21:46.216655Z",
          "shell.execute_reply": "2021-05-23T05:21:46.225877Z"
        },
        "trusted": true,
        "id": "5Vf2G4VXfvEP"
      },
      "source": [
        "def add_ratios_features(df):\n",
        "    df['BUREAU_INCOME_CREDIT_RATIO'] = df['BUREAU_AMT_CREDIT_SUM_MEAN'] / df['AMT_INCOME_TOTAL']\n",
        "    df['BUREAU_ACTIVE_CREDIT_TO_INCOME_RATIO'] = df['BUREAU_ACTIVE_AMT_CREDIT_SUM_SUM'] / df['AMT_INCOME_TOTAL']\n",
        "    df['CURRENT_TO_APPROVED_CREDIT_MIN_RATIO'] = df['APPROVED_AMT_CREDIT_MIN'] / df['AMT_CREDIT']\n",
        "    df['CURRENT_TO_APPROVED_CREDIT_MAX_RATIO'] = df['APPROVED_AMT_CREDIT_MAX'] / df['AMT_CREDIT']\n",
        "    df['CURRENT_TO_APPROVED_CREDIT_MEAN_RATIO'] = df['APPROVED_AMT_CREDIT_MEAN'] / df['AMT_CREDIT']\n",
        "    df['CURRENT_TO_APPROVED_ANNUITY_MAX_RATIO'] = df['APPROVED_AMT_ANNUITY_MAX'] / df['AMT_ANNUITY']\n",
        "    df['CURRENT_TO_APPROVED_ANNUITY_MEAN_RATIO'] = df['APPROVED_AMT_ANNUITY_MEAN'] / df['AMT_ANNUITY']\n",
        "    df['PAYMENT_MIN_TO_ANNUITY_RATIO'] = df['INS_AMT_PAYMENT_MIN'] / df['AMT_ANNUITY']\n",
        "    df['PAYMENT_MAX_TO_ANNUITY_RATIO'] = df['INS_AMT_PAYMENT_MAX'] / df['AMT_ANNUITY']\n",
        "    df['PAYMENT_MEAN_TO_ANNUITY_RATIO'] = df['INS_AMT_PAYMENT_MEAN'] / df['AMT_ANNUITY']\n",
        "    df['CTA_CREDIT_TO_ANNUITY_MAX_RATIO'] = df['APPROVED_CREDIT_TO_ANNUITY_RATIO_MAX'] / df[\n",
        "        'CREDIT_TO_ANNUITY_RATIO']\n",
        "    df['CTA_CREDIT_TO_ANNUITY_MEAN_RATIO'] = df['APPROVED_CREDIT_TO_ANNUITY_RATIO_MEAN'] / df[\n",
        "        'CREDIT_TO_ANNUITY_RATIO']\n",
        "    df['DAYS_DECISION_MEAN_TO_BIRTH'] = df['APPROVED_DAYS_DECISION_MEAN'] / df['DAYS_BIRTH']\n",
        "    df['DAYS_CREDIT_MEAN_TO_BIRTH'] = df['BUREAU_DAYS_CREDIT_MEAN'] / df['DAYS_BIRTH']\n",
        "    df['DAYS_DECISION_MEAN_TO_EMPLOYED'] = df['APPROVED_DAYS_DECISION_MEAN'] / df['DAYS_EMPLOYED']\n",
        "    df['DAYS_CREDIT_MEAN_TO_EMPLOYED'] = df['BUREAU_DAYS_CREDIT_MEAN'] / df['DAYS_EMPLOYED']\n",
        "    return df"
      ],
      "execution_count": null,
      "outputs": []
    },
    {
      "cell_type": "code",
      "metadata": {
        "execution": {
          "iopub.status.busy": "2021-05-23T05:21:46.228391Z",
          "iopub.execute_input": "2021-05-23T05:21:46.228749Z",
          "iopub.status.idle": "2021-05-23T05:21:46.290356Z",
          "shell.execute_reply.started": "2021-05-23T05:21:46.228705Z",
          "shell.execute_reply": "2021-05-23T05:21:46.289207Z"
        },
        "trusted": true,
        "id": "2ZVxuFbffvEP"
      },
      "source": [
        "df = add_ratios_features(df)"
      ],
      "execution_count": null,
      "outputs": []
    },
    {
      "cell_type": "code",
      "metadata": {
        "execution": {
          "iopub.status.busy": "2021-05-23T05:21:46.292168Z",
          "iopub.execute_input": "2021-05-23T05:21:46.292623Z",
          "iopub.status.idle": "2021-05-23T05:21:50.082175Z",
          "shell.execute_reply.started": "2021-05-23T05:21:46.292573Z",
          "shell.execute_reply": "2021-05-23T05:21:50.080957Z"
        },
        "trusted": true,
        "id": "8PLtBIz3fvEP"
      },
      "source": [
        "df.replace([np.inf, -np.inf], np.nan, inplace=True)"
      ],
      "execution_count": null,
      "outputs": []
    },
    {
      "cell_type": "code",
      "metadata": {
        "execution": {
          "iopub.status.busy": "2021-05-23T05:21:50.084069Z",
          "iopub.execute_input": "2021-05-23T05:21:50.084501Z",
          "iopub.status.idle": "2021-05-23T05:21:51.318342Z",
          "shell.execute_reply.started": "2021-05-23T05:21:50.084452Z",
          "shell.execute_reply": "2021-05-23T05:21:51.317072Z"
        },
        "trusted": true,
        "id": "svG26eHbfvEP"
      },
      "source": [
        "train = df[df['TARGET'].notnull()]\n",
        "test = df[df['TARGET'].isnull()]\n",
        "del df\n",
        "gc.collect()"
      ],
      "execution_count": null,
      "outputs": []
    },
    {
      "cell_type": "code",
      "metadata": {
        "execution": {
          "iopub.status.busy": "2021-05-23T05:21:51.320815Z",
          "iopub.execute_input": "2021-05-23T05:21:51.321303Z",
          "iopub.status.idle": "2021-05-23T05:21:52.223921Z",
          "shell.execute_reply.started": "2021-05-23T05:21:51.321247Z",
          "shell.execute_reply": "2021-05-23T05:21:52.222793Z"
        },
        "trusted": true,
        "id": "3iSXeH6xfvEQ"
      },
      "source": [
        "labels = train['TARGET']\n",
        "train = train.drop(columns=['TARGET'])\n",
        "test = test.drop(columns=['TARGET'])"
      ],
      "execution_count": null,
      "outputs": []
    },
    {
      "cell_type": "code",
      "metadata": {
        "execution": {
          "iopub.status.busy": "2021-05-23T05:21:52.225085Z",
          "iopub.execute_input": "2021-05-23T05:21:52.225364Z",
          "iopub.status.idle": "2021-05-23T05:21:53.414967Z",
          "shell.execute_reply.started": "2021-05-23T05:21:52.225335Z",
          "shell.execute_reply": "2021-05-23T05:21:53.414084Z"
        },
        "trusted": true,
        "id": "p50dXupkfvEQ"
      },
      "source": [
        "feature = list(train.columns)\n",
        "\n",
        "test_df = test.copy()\n",
        "train_df = train.copy()\n",
        "train_df['TARGET'] = labels"
      ],
      "execution_count": null,
      "outputs": []
    },
    {
      "cell_type": "code",
      "metadata": {
        "execution": {
          "iopub.status.busy": "2021-05-23T05:21:53.416446Z",
          "iopub.execute_input": "2021-05-23T05:21:53.417005Z"
        },
        "trusted": true,
        "id": "ApiMk69OfvEQ"
      },
      "source": [
        "imputer = SimpleImputer(strategy = 'median')\n",
        "imputer.fit(train)\n",
        "train = imputer.transform(train)\n",
        "test = imputer.transform(test)"
      ],
      "execution_count": null,
      "outputs": []
    },
    {
      "cell_type": "code",
      "metadata": {
        "trusted": true,
        "id": "vP20adIYfvEQ"
      },
      "source": [
        "scaler = MinMaxScaler(feature_range = (0, 1))\n",
        "scaler.fit(train)\n",
        "train = scaler.transform(train)\n",
        "test = scaler.transform(test)"
      ],
      "execution_count": null,
      "outputs": []
    },
    {
      "cell_type": "code",
      "metadata": {
        "trusted": true,
        "id": "LXmGPbSofvEQ"
      },
      "source": [
        "log_reg = LogisticRegression(C = 0.0001)\n",
        "log_reg.fit(train, labels)"
      ],
      "execution_count": null,
      "outputs": []
    },
    {
      "cell_type": "code",
      "metadata": {
        "trusted": true,
        "id": "KUiig9WyfvEQ"
      },
      "source": [
        "log_reg_pred = log_reg.predict_proba(test)[:, 1]"
      ],
      "execution_count": null,
      "outputs": []
    },
    {
      "cell_type": "code",
      "metadata": {
        "trusted": true,
        "id": "RWMlg62jfvER"
      },
      "source": [
        "submit = test_df[['SK_ID_CURR']]\n",
        "submit['TARGET'] = log_reg_pred"
      ],
      "execution_count": null,
      "outputs": []
    },
    {
      "cell_type": "code",
      "metadata": {
        "trusted": true,
        "id": "W-0YH51LfvER"
      },
      "source": [
        "submit.to_csv('log_reg.csv', index = False)"
      ],
      "execution_count": null,
      "outputs": []
    },
    {
      "cell_type": "code",
      "metadata": {
        "trusted": true,
        "id": "oqkcGXCUfvER"
      },
      "source": [
        "random_forest = RandomForestClassifier(n_estimators = 100, random_state = 50, verbose = 1, n_jobs = -1)\n",
        "random_forest.fit(train, labels)"
      ],
      "execution_count": null,
      "outputs": []
    },
    {
      "cell_type": "code",
      "metadata": {
        "trusted": true,
        "id": "sI9Ao1ubfvER"
      },
      "source": [
        "predictions = random_forest.predict_proba(test)[:, 1]\n",
        "del train, test\n",
        "gc.collect()"
      ],
      "execution_count": null,
      "outputs": []
    },
    {
      "cell_type": "code",
      "metadata": {
        "trusted": true,
        "id": "b8sZNRBmfvER"
      },
      "source": [
        "submit = test_df[['SK_ID_CURR']]\n",
        "submit['TARGET'] = predictions\n",
        "del predictions\n",
        "submit.to_csv('random_forest.csv', index = False)\n",
        "del submit\n",
        "gc.collect()"
      ],
      "execution_count": null,
      "outputs": []
    },
    {
      "cell_type": "code",
      "metadata": {
        "trusted": true,
        "id": "tG2AMGZifvER"
      },
      "source": [
        "# Ref: https://pranaysite.netlify.app/lightgbm/\n",
        "\n",
        "def model(features, test_features, encoding = 'ohe', n_folds = 5):\n",
        "    \n",
        "    \"\"\"Train and test a light gradient boosting model using\n",
        "    cross validation. \n",
        "    \n",
        "    Parameters\n",
        "    --------\n",
        "        features (pd.DataFrame): \n",
        "            dataframe of training features to use \n",
        "            for training a model. Must include the TARGET column.\n",
        "        test_features (pd.DataFrame): \n",
        "            dataframe of testing features to use\n",
        "            for making predictions with the model. \n",
        "        encoding (str, default = 'ohe'): \n",
        "            method for encoding categorical variables. Either 'ohe' for one-hot encoding or 'le' for integer label encoding\n",
        "            n_folds (int, default = 5): number of folds to use for cross validation\n",
        "        \n",
        "    Return\n",
        "    --------\n",
        "        submission (pd.DataFrame): \n",
        "            dataframe with `SK_ID_CURR` and `TARGET` probabilities\n",
        "            predicted by the model.\n",
        "        feature_importances (pd.DataFrame): \n",
        "            dataframe with the feature importances from the model.\n",
        "        valid_metrics (pd.DataFrame): \n",
        "            dataframe with training and validation metrics (ROC AUC) for each fold and overall.\n",
        "        \n",
        "    \"\"\"\n",
        "    \n",
        "    # Extract the ids\n",
        "    train_ids = features['SK_ID_CURR']\n",
        "    test_ids = test_features['SK_ID_CURR']\n",
        "    \n",
        "    # Extract the labels for training\n",
        "    labels = features['TARGET']\n",
        "    \n",
        "    # Remove the ids and target\n",
        "    features = features.drop(columns = ['SK_ID_CURR', 'TARGET'])\n",
        "    test_features = test_features.drop(columns = ['SK_ID_CURR'])\n",
        "    \n",
        "    \n",
        "    # One Hot Encoding\n",
        "    if encoding == 'ohe':\n",
        "        features = pd.get_dummies(features)\n",
        "        test_features = pd.get_dummies(test_features)\n",
        "        \n",
        "        # Align the dataframes by the columns\n",
        "        features, test_features = features.align(test_features, join = 'inner', axis = 1)\n",
        "        \n",
        "        # No categorical indices to record\n",
        "        cat_indices = 'auto'\n",
        "    \n",
        "    # Integer label encoding\n",
        "    elif encoding == 'le':\n",
        "        \n",
        "        # Create a label encoder\n",
        "        label_encoder = LabelEncoder()\n",
        "        \n",
        "        # List for storing categorical indices\n",
        "        cat_indices = []\n",
        "        \n",
        "        # Iterate through each column\n",
        "        for i, col in enumerate(features):\n",
        "            if features[col].dtype == 'object':\n",
        "                # Map the categorical features to integers\n",
        "                features[col] = label_encoder.fit_transform(np.array(features[col].astype(str)).reshape((-1,)))\n",
        "                test_features[col] = label_encoder.transform(np.array(test_features[col].astype(str)).reshape((-1,)))\n",
        "\n",
        "                # Record the categorical indices\n",
        "                cat_indices.append(i)\n",
        "    \n",
        "    # Catch error if label encoding scheme is not valid\n",
        "    else:\n",
        "        raise ValueError(\"Encoding must be either 'ohe' or 'le'\")\n",
        "        \n",
        "    print('Training Data Shape: ', features.shape)\n",
        "    print('Testing Data Shape: ', test_features.shape)\n",
        "    \n",
        "    # Extract feature names\n",
        "    feature_names = list(features.columns)\n",
        "    \n",
        "    # Convert to np arrays\n",
        "    features = np.array(features)\n",
        "    test_features = np.array(test_features)\n",
        "    \n",
        "    # Create the kfold object\n",
        "    k_fold = KFold(n_splits = n_folds, shuffle = True, random_state = 50)\n",
        "    \n",
        "    # Empty array for feature importances\n",
        "    feature_importance_values = np.zeros(len(feature_names))\n",
        "    \n",
        "    # Empty array for test predictions\n",
        "    test_predictions = np.zeros(test_features.shape[0])\n",
        "    \n",
        "    # Empty array for out of fold validation predictions\n",
        "    out_of_fold = np.zeros(features.shape[0])\n",
        "    \n",
        "    # Lists for recording validation and training scores\n",
        "    valid_scores = []\n",
        "    train_scores = []\n",
        "    \n",
        "    # Iterate through each fold\n",
        "    for train_indices, valid_indices in k_fold.split(features):\n",
        "        \n",
        "        # Training data for the fold\n",
        "        train_features, train_labels = features[train_indices], labels[train_indices]\n",
        "        # Validation data for the fold\n",
        "        valid_features, valid_labels = features[valid_indices], labels[valid_indices]\n",
        "        \n",
        "        # Create the model\n",
        "        model = lgb.LGBMClassifier(n_estimators=10000, objective = 'binary', \n",
        "                                   class_weight = 'balanced', learning_rate = 0.05, \n",
        "                                   reg_alpha = 0.1, reg_lambda = 0.1, \n",
        "                                   subsample = 0.8, n_jobs = -1, random_state = 50)\n",
        "        \n",
        "        # Train the model\n",
        "        model.fit(train_features, train_labels, eval_metric = 'auc',\n",
        "                  eval_set = [(valid_features, valid_labels), (train_features, train_labels)],\n",
        "                  eval_names = ['valid', 'train'], categorical_feature = cat_indices,\n",
        "                  early_stopping_rounds = 100, verbose = 200)\n",
        "        \n",
        "        # Record the best iteration\n",
        "        best_iteration = model.best_iteration_\n",
        "        \n",
        "        # Record the feature importances\n",
        "        feature_importance_values += model.feature_importances_ / k_fold.n_splits\n",
        "        \n",
        "        # Make predictions\n",
        "        test_predictions += model.predict_proba(test_features, num_iteration = best_iteration)[:, 1] / k_fold.n_splits\n",
        "        \n",
        "        # Record the out of fold predictions\n",
        "        out_of_fold[valid_indices] = model.predict_proba(valid_features, num_iteration = best_iteration)[:, 1]\n",
        "        \n",
        "        # Record the best score\n",
        "        valid_score = model.best_score_['valid']['auc']\n",
        "        train_score = model.best_score_['train']['auc']\n",
        "        \n",
        "        valid_scores.append(valid_score)\n",
        "        train_scores.append(train_score)\n",
        "        \n",
        "        # Clean up memory\n",
        "        gc.enable()\n",
        "        del model, train_features, valid_features\n",
        "        gc.collect()\n",
        "        \n",
        "    # Make the submission dataframe\n",
        "    submission = pd.DataFrame({'SK_ID_CURR': test_ids, 'TARGET': test_predictions})\n",
        "    \n",
        "    # Make the feature importance dataframe\n",
        "    feature_importances = pd.DataFrame({'feature': feature_names, 'importance': feature_importance_values})\n",
        "    \n",
        "    # Overall validation score\n",
        "    valid_auc = roc_auc_score(labels, out_of_fold)\n",
        "    \n",
        "    # Add the overall scores to the metrics\n",
        "    valid_scores.append(valid_auc)\n",
        "    train_scores.append(np.mean(train_scores))\n",
        "    \n",
        "    # Needed for creating dataframe of validation scores\n",
        "    fold_names = list(range(n_folds))\n",
        "    fold_names.append('overall')\n",
        "    \n",
        "    # Dataframe of validation scores\n",
        "    metrics = pd.DataFrame({'fold': fold_names,\n",
        "                            'train': train_scores,\n",
        "                            'valid': valid_scores}) \n",
        "    \n",
        "    return submission, feature_importances, metrics"
      ],
      "execution_count": null,
      "outputs": []
    },
    {
      "cell_type": "code",
      "metadata": {
        "trusted": true,
        "id": "zj66QZx_fvES"
      },
      "source": [
        "submission, fi, metrics = model(train_df, test_df)\n",
        "print('LightGBM metrics')\n",
        "print(metrics)"
      ],
      "execution_count": null,
      "outputs": []
    },
    {
      "cell_type": "code",
      "metadata": {
        "trusted": true,
        "id": "uTkOj1hsfvES"
      },
      "source": [
        "def plot_feature_importances(df):\n",
        "    \"\"\"\n",
        "    Plot importances returned by a model. This can work with any measure of\n",
        "    feature importance provided that higher importance is better. \n",
        "    \n",
        "    Args:\n",
        "        df (dataframe): feature importances. Must have the features in a column\n",
        "        called `features` and the importances in a column called `importance\n",
        "        \n",
        "    Returns:\n",
        "        shows a plot of the 15 most importance features\n",
        "        \n",
        "        df (dataframe): feature importances sorted by importance (highest to lowest) \n",
        "        with a column for normalized importance\n",
        "        \"\"\"\n",
        "    \n",
        "    # Sort features according to importance\n",
        "    df = df.sort_values('importance', ascending = False).reset_index()\n",
        "    \n",
        "    # Normalize the feature importances to add up to one\n",
        "    df['importance_normalized'] = df['importance'] / df['importance'].sum()\n",
        "\n",
        "    # Make a horizontal bar chart of feature importances\n",
        "    plt.figure(figsize = (10, 6))\n",
        "    ax = plt.subplot()\n",
        "    \n",
        "    # Need to reverse the index to plot most important on top\n",
        "    ax.barh(list(reversed(list(df.index[:15]))), \n",
        "            df['importance_normalized'].head(15), \n",
        "            align = 'center', edgecolor = 'k')\n",
        "    \n",
        "    # Set the yticks and labels\n",
        "    ax.set_yticks(list(reversed(list(df.index[:15]))))\n",
        "    ax.set_yticklabels(df['feature'].head(15))\n",
        "    \n",
        "    # Plot labeling\n",
        "    plt.xlabel('Normalized Importance'); plt.title('Feature Importances')\n",
        "    plt.show()\n",
        "    \n",
        "    return df"
      ],
      "execution_count": null,
      "outputs": []
    },
    {
      "cell_type": "code",
      "metadata": {
        "trusted": true,
        "id": "gjTgDJH6fvES"
      },
      "source": [
        "fi_sorted = plot_feature_importances(fi)"
      ],
      "execution_count": null,
      "outputs": []
    },
    {
      "cell_type": "code",
      "metadata": {
        "trusted": true,
        "id": "Dv71kBZFfvES"
      },
      "source": [
        "submission.to_csv('lgb.csv', index = False)\n",
        "del submission, fi, fi_sorted, metrics\n",
        "gc.collect()"
      ],
      "execution_count": null,
      "outputs": []
    },
    {
      "cell_type": "code",
      "metadata": {
        "trusted": true,
        "id": "6u8IISU5fvET"
      },
      "source": [
        "train_values = labels\n",
        "train_id = train_df['SK_ID_CURR']\n",
        "test_id = test_df['SK_ID_CURR']\n",
        "\n",
        "train_df_xg = train_df.copy()\n",
        "test_df_xg = test_df.copy()\n",
        "\n",
        "train_df_xg.drop('SK_ID_CURR', inplace=True, axis=1)\n",
        "test_df_xg.drop('SK_ID_CURR', inplace=True, axis=1)\n",
        "\n",
        "train_df_xg, test_df_xg = train_df_xg.align(test_df_xg, join = 'inner', axis = 1)\n",
        "\n",
        "ratio = (train_values == 0).sum()/ (train_values == 1).sum()\n",
        "del train_df, test_df\n",
        "gc.collect()"
      ],
      "execution_count": null,
      "outputs": []
    },
    {
      "cell_type": "code",
      "metadata": {
        "trusted": true,
        "id": "LKVqL8fyfvET"
      },
      "source": [
        "X_train, X_test, y_train, y_test = train_test_split(train_df_xg, train_values, test_size=0.2, stratify=train_values, random_state=1)"
      ],
      "execution_count": null,
      "outputs": []
    },
    {
      "cell_type": "code",
      "metadata": {
        "trusted": true,
        "id": "-KY30ELcfvET"
      },
      "source": [
        "clf = XGBClassifier(n_estimators=1200, objective='binary:logistic', gamma=0.098, subsample=0.5, scale_pos_weight=ratio )\n",
        "clf.fit(X_train, y_train, eval_set=[(X_test, y_test)], eval_metric='auc', early_stopping_rounds=10)"
      ],
      "execution_count": null,
      "outputs": []
    },
    {
      "cell_type": "code",
      "metadata": {
        "trusted": true,
        "id": "QvmlFNyXfvET"
      },
      "source": [
        "predictions = clf.predict_proba(test_df_xg.values)[:, 1]\n",
        "submission = pd.DataFrame({'SK_ID_CURR': test_id.values, 'TARGET': predictions})\n",
        "submission.to_csv('xgboost.csv', index = False)"
      ],
      "execution_count": null,
      "outputs": []
    },
    {
      "cell_type": "code",
      "metadata": {
        "id": "ANtxl1MUgHMf"
      },
      "source": [
        "!kaggle competitions submit home-credit-default-risk -f lgb.csv -m \"Notebook Home Credit Loan | v5 | LightGBM\""
      ],
      "execution_count": null,
      "outputs": []
    },
    {
      "cell_type": "code",
      "metadata": {
        "id": "TEDXHkyBgIQD"
      },
      "source": [
        "!kaggle competitions submit home-credit-default-risk -f xgboost.csv -m \"Notebook Home Credit Loan | v5 | XGBoost\""
      ],
      "execution_count": null,
      "outputs": []
    },
    {
      "cell_type": "code",
      "metadata": {
        "id": "ZD_Zmd1AgJiQ"
      },
      "source": [
        "!kaggle competitions submit home-credit-default-risk -f log_reg.csv -m \"Notebook Home Credit Loan | v5 | LogisticRegression\""
      ],
      "execution_count": null,
      "outputs": []
    },
    {
      "cell_type": "code",
      "metadata": {
        "id": "NjAxYctwgK4_"
      },
      "source": [
        "!kaggle competitions submit home-credit-default-risk -f random_forest.csv -m \"Notebook Home Credit Loan | v5 | RandomForest\""
      ],
      "execution_count": null,
      "outputs": []
    }
  ]
}